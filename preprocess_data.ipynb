{
 "cells": [
  {
   "cell_type": "markdown",
   "id": "f21ddde3",
   "metadata": {},
   "source": [
    "# Tiền xử lý dữ liệu văn bản"
   ]
  },
  {
   "cell_type": "markdown",
   "id": "0d533551",
   "metadata": {},
   "source": [
    "#### Import thư viện"
   ]
  },
  {
   "cell_type": "code",
   "execution_count": 1,
   "id": "d31d48ec",
   "metadata": {},
   "outputs": [],
   "source": [
    "import pandas as pd\n",
    "import matplotlib.pyplot as plt\n",
    "import numpy as np\n",
    "import regex as re\n",
    "import random\n",
    "import math\n",
    "import os\n",
    "from tqdm.notebook import tqdm\n",
    "import pickle"
   ]
  },
  {
   "cell_type": "markdown",
   "id": "6511ee1b",
   "metadata": {},
   "source": [
    "#### Load dữ liệu"
   ]
  },
  {
   "attachments": {},
   "cell_type": "markdown",
   "id": "380665db",
   "metadata": {},
   "source": [
    "Thông tin bộ dữ liệu\n",
    "\n",
    "![alt text](image/stats.png)"
   ]
  },
  {
   "cell_type": "code",
   "execution_count": 2,
   "id": "a9c267e0",
   "metadata": {
    "scrolled": true
   },
   "outputs": [],
   "source": [
    "train_x = pickle.load(open('Data/train_x_raw.sav', 'rb'))\n",
    "train_y = pickle.load(open('Data/train_y_raw.sav', 'rb'))\n",
    "test_x = pickle.load(open('Data/test_x_raw.sav', 'rb'))\n",
    "test_y = pickle.load(open('Data/test_y_raw.sav', 'rb'))"
   ]
  },
  {
   "cell_type": "code",
   "execution_count": 3,
   "id": "f0f80ddb",
   "metadata": {},
   "outputs": [],
   "source": [
    "labels = list(np.unique(train_y))"
   ]
  },
  {
   "cell_type": "code",
   "execution_count": 4,
   "id": "f8c5f2d6",
   "metadata": {},
   "outputs": [
    {
     "data": {
      "text/plain": [
       "['Am nhac',\n",
       " 'Am thuc',\n",
       " 'Bat dong san',\n",
       " 'Bong da',\n",
       " 'Chung khoan',\n",
       " 'Cum ga',\n",
       " 'Cuoc song do day',\n",
       " 'Du hoc',\n",
       " 'Du lich',\n",
       " 'Duong vao WTO',\n",
       " 'Gia dinh',\n",
       " 'Giai tri tin hoc',\n",
       " 'Giao duc',\n",
       " 'Gioi tinh',\n",
       " 'Hackers va Virus',\n",
       " 'Hinh su',\n",
       " 'Khong gian song',\n",
       " 'Kinh doanh quoc te',\n",
       " 'Kinh te',\n",
       " 'Lam dep',\n",
       " 'Loi song',\n",
       " 'Mua sam',\n",
       " 'My thuat',\n",
       " 'San khau dien anh',\n",
       " 'San pham tin hoc moi',\n",
       " 'Suc khoe',\n",
       " 'Tennis',\n",
       " 'The gioi tre',\n",
       " 'Thoi trang',\n",
       " 'Xe co']"
      ]
     },
     "execution_count": 4,
     "metadata": {},
     "output_type": "execute_result"
    }
   ],
   "source": [
    "labels"
   ]
  },
  {
   "cell_type": "code",
   "execution_count": 6,
   "id": "985ccee2",
   "metadata": {},
   "outputs": [
    {
     "data": {
      "text/plain": [
       "{'Am nhac': 1296,\n",
       " 'Am thuc': 528,\n",
       " 'Bat dong san': 458,\n",
       " 'Bong da': 2567,\n",
       " 'Chung khoan': 513,\n",
       " 'Cum ga': 661,\n",
       " 'Cuoc song do day': 1174,\n",
       " 'Du hoc': 765,\n",
       " 'Du lich': 1102,\n",
       " 'Duong vao WTO': 289,\n",
       " 'Gia dinh': 375,\n",
       " 'Giai tri tin hoc': 1328,\n",
       " 'Giao duc': 1348,\n",
       " 'Gioi tinh': 446,\n",
       " 'Hackers va Virus': 489,\n",
       " 'Hinh su': 395,\n",
       " 'Khong gian song': 150,\n",
       " 'Kinh doanh quoc te': 985,\n",
       " 'Kinh te': 540,\n",
       " 'Lam dep': 1077,\n",
       " 'Loi song': 425,\n",
       " 'Mua sam': 206,\n",
       " 'My thuat': 259,\n",
       " 'San khau dien anh': 1667,\n",
       " 'San pham tin hoc moi': 1093,\n",
       " 'Suc khoe': 165,\n",
       " 'Tennis': 630,\n",
       " 'The gioi tre': 759,\n",
       " 'Thoi trang': 542,\n",
       " 'Xe co': 212}"
      ]
     },
     "execution_count": 6,
     "metadata": {},
     "output_type": "execute_result"
    }
   ],
   "source": [
    "label_len = {}\n",
    "for label in labels:\n",
    "    label_len[label] = np.count_nonzero(train_y == label)\n",
    "label_len"
   ]
  },
  {
   "cell_type": "code",
   "execution_count": null,
   "id": "73f8824e",
   "metadata": {},
   "outputs": [],
   "source": []
  },
  {
   "cell_type": "code",
   "execution_count": 21,
   "id": "e9950490",
   "metadata": {
    "scrolled": true
   },
   "outputs": [
    {
     "name": "stdout",
     "output_type": "stream",
     "text": [
      "Cate:  Tennis\n",
      "Content:  Tim Henman 'mất điểm' trước người hâm mộ \n",
      "Được mời tới thăm trường tiểu học Jumeirah trong thời gian tham dự giải Dubai Mở rộng, nhưng tay vợt người Anh Tim Henman đã từ chối thực hiện nghĩa vụ của mình sau khi thất bại ở ngay vòng một. Không có một sự giải thích hợp lý nào, và ATP đã phải cử Federer thay thế. \n",
      "Henman được mời thăm trường tiểu học Jumeirah sau khi Emily Kirton - một cậu bé 8 tuổi - giành giải nhất cuộc thi viết về thần tượng của mình do nhà trường tổ chức. Cuộc thi do BTC giải Dubai Mở rộng tài trợ. Và Tim Henman, người xuất hiện trong bài viết này, sẽ có chuyến thăm trường theo sự sắp xếp của BTC giải. \n",
      "Tuy nhiên, sau khi để thua tay vợt phải qua đấu loại người CH Czech hạng 149 thế giới tối thứ hai, Henman cho biết anh không thể thực hiện chuyến thăm trường Jumeirah vì đã đặt vé cho chuyến bay trở về Anh vào 2h45 sáng hôm sau.\n",
      "Sáng thứ ba, toàn bộ học sinh và các bậc phụ huynh đã vô cùng thất vọng khi hiệu trưởng nhà trường thông báo quyết định trên của tay vợt người Anh. Ngay lập tức, trường đã gửi thư tới giải đấu. Nhân viên quan hệ công chúng của ATP giải thích: \"ATP không thể bắt buộc bất kỳ tay vợt nào nán lại thêm một khi họ đã thua trận. Ở số giải, các thành viên tham dự có các cam kết buộc phải ở lại cho đến một thời điểm nhất định nào đó, bất chấp thắng hay thua. Nhưng trong trường hợp này, không có một hợp đồng nào như vậy cả. Hầu hết mọi người đều trở về nhà khi đã thua cuộc, không tham gia vào bất kỳ hoạt động nào khác. Thực ra Tim Henman không phải là người không biết giữ lời hứa. Anh ấy cũng không phải là người phải rạch ròi mọi thứ trên giấy tờ. Có lẽ đây là trường hợp ngoại lệ\".\n",
      "Henman không có lý giải rõ ràng nào, anh chỉ nói: \"BTC giải gần như chắc chắn tôi sẽ thực hiện chuyến thăm. Nhưng thực ra còn một số điểm tôi vẫn chưa tán thành. Và trong trường hợp này, có lẽ đã có sự chưa thống nhất giữa hai bên.\n",
      "Dù vậy, ATP và cụ thể là BTC giải Dubai Mở rộng đã có một biện pháp chữa cháy tuyệt vời khi để tay vợt số 1 Roger Federer thay thế. Và buổi giao lưu đã thành công ngoài mong đợi của BTC. Federer đã cứu cho ATP một bàn thua trông thấy.\n",
      "\n",
      "\n",
      "-------------------------------\n",
      "Cate:  Gioi tinh\n",
      "Content:  Rối loạn cường dương do tiểu đường\n",
      "Sau một thời gian điều trị, đường huyết của nhiều người bệnh ổn định dần. Nhưng \"chuyện ấy\" cũng giảm dần cả về số lượng và chất lượng, sau đó \"lịm\" hẳn. \n",
      "Khi sự chuyển hoá glucose bị rối loạn một cách trầm trọng và lâu dài, cơ thể sẽ có những rối loạn khác (về chức năng thần kinh trung ương, chức năng thần kinh ngoại vi, nội mô và nội tiết). Những rối loạn này, cùng với sự thay đổi về mạch máu, bao trắng (albugiriea) và tác dụng phụ của một số thuốc... đã dẫn đến sự mất cân bằng giữa việc co và giãn cơ trơn trong thể hang của dương vật.\n",
      "Các dược phẩm gây rối loạn xương dương bao gồm: thuốc huỷ giao cảm (methyldopa, clonidine, reserpin, guanetidine), thuốc chẹn beta, thiazide, thuốc tâm thần, chất ức chế men monoamineoxidase và các chất ức chế tái hấp thu serotonin...\n",
      "Khi một bệnh nhân tiểu đường được chẩn đoán có rối loạn cương dương, đầu tiên phải làm là kiểm soát tốt đường huyết, giảm uống rượu, bỏ hút thuốc lá và ngừng hẳn các loại thuốc có thể gây ra rối loạn này. Sau đó, bác sĩ có thể sử dụng một trong các biện pháp điều trị sau:\n",
      "- Dùng thuốc: Gồm nhiều loại thuốc dùng qua đường uống và tiêm vào thể hang. Việc lựa chọn loại nào tuỳ thuộc vào thể trạng, bệnh tình của từng người.\n",
      "- Trị liệu qua niệu đạo: Có thể bơm các thuốc alprostadil qua đường niệu đạo. Hiệu quả không bằng tiêm thuốc vào thể hang.\n",
      "- Dùng dụng cụ hút chân không: Các dụng cụ này gây ra áp suất âm để kéo máu vào thể hang. Máu được giữ lại ở đó bằng cách đặt vào đáy dương vật một dải thắt để ngăn chặn sự thoát lưu của tĩnh mạch.\n",
      "- Cấy mảnh ghép: Khi không còn giải pháp hữu hiệu nào khác, người ta sẽ cấy những vật ghép vào dương vật. Đó là những vật bán cứng (semirigid), uốn được và phồng lên được, có thể điều chỉnh độ phồng to hay nhỏ tuỳ theo ý muốn của người bệnh.\n",
      "Ngoài 5 cách trị liệu trên, bệnh nhân có thể tham khảo 3 phương pháp sau:\n",
      "- Dùng một loại âm đạo giả, chạy bằng pin (trông giống như một cái ví nhỏ) kẹp vào dương vật. Dụng cụ này tiết ra một chất nhầy làm cho dương vật nóng lên, đồng thời có 1 bộ phận day qua day lại để kích thích làm cứng dương vật. Sau công đoạn âm đạo giả, người bệnh có thể chuyển sang công đoạn âm đạo thật một cách rất dễ dàng.\n",
      "- Làm bỏng niệu đạo, dương vật: Dựa vào cơ chế ruồi Nam Mỹ đốt vào da và làm bỏng da. Người ta chế ra 1 loại thuốc thải qua đường tiết niệu và nó có tác dụng gây bỏng niệu đạo, dẫn đến kích thích thể hang, làm cho dương vật luôn luôn ở trạng thái cương cứng.\n",
      "- Sử dụng 1 dụng cụ bắn chân không, tạo ra áp lực đẩy hơi qua da của dương vật và làm cho dương vật cứng lên. \n",
      "\n",
      "\n",
      "-------------------------------\n",
      "Cate:  Bong da\n",
      "Content:  Thái Lan có ý định nhập khẩu cầu thủ ngoại cho ĐTQG \n",
      "Thủ tướng Thái Lan, Thaksin Shinawatra, vừa gợi ý các CLB nước này nên thuê các tuyển thủ nước ngoài để cải thiện trình độ của giải trong nước. Ông Thaksin còn tuyên bố, chính phủ sẵn sàng tạo điều kiện nhập quốc tịch cho những cầu thủ giỏi để họ có thể chơi cho ĐTQG Thái Lan. \n",
      "HLV trưởng đội tuyển Carlos Roberto Carvalho cũng nhiệt tình ủng hộ ý tưởng này. Ông thày người Brazil thậm chí đã nhắm đến hậu vệ người Bờ Biển Ngà Kone Mohamed, đang chơi cho CLB Krung Thai Bank. Ông Carvalho cho rằng nếu có được hậu vệ to khỏe và chơi kỹ thuật này, hàng hậu vệ bất ổn của Thái Lan sẽ được củng cố. Nhưng ông Carvalho lại vấp phải mũi dùi chỉ trích từ trưởng đoàn bóng đá Thavatchai Sajakul. Ông Thavatchai cho rằng việc nhập quốc tịch không đơn giản như suy nghĩ của vị HLV người Brazil. \n",
      "Báo chí Thái Lan cũng rất dè dặt với ý tưởng này. Họ công nhận rằng có các cầu thủ nước ngoài trong ĐTQG là một ý kiến hay, nhưng lại rất mạo hiểm khi nhập quốc tịch cho những cầu thủ không đủ trình độ. Singapore cũng là một ví dụ điển hình khi họ đã nhập khẩu các cầu thủ nước ngoài như Agu Casmir mà trình độ bóng đá nước này vẫn chưa được cải thiện. \n",
      "Hơn nữa, với vị thế nhỏ nhoi hiện nay của ĐTQG và hầu bao hạn hẹp, Thái Lan khó có thể mua những cầu thủ trình độ cao như Qatar. Đất nước dầu mỏ đang cố quyến rũ những hảo thủ như Ailton, Dede và Leandro - những người trình độ không đủ để chơi trong màu áo tuyển Brazil, nhưng vẫn đủ sức chơi cho các đội châu Á. Cả ba đều đang chơi ở Bundesliga. Tiền đạo Ailton hiện khoác áo Werder Bremen, hậu vệ Dede và tiền đạo Leandro đang ở Borussia Dortmund Tờ Bangkokpost nhận định vấn đề của Thái Lan không phải là chất lượng cầu thủ mà là kỷ luật đội kém. Một số cầu thủ Thái Lan đã không hài lòng với chương trình tập huấn khắt khe của ông Carvalho, và không muốn tham gia trong đợt tập huấn chuẩn bị cho Asian Cup năm ngoái. Và ông Carvalho đã cho những cầu thủ lười biếng một bài học khi loại họ khỏi đội, dù sau đó Thái Lan đã phải thất bại 0-1 trước Các tiểu vương quốc Ảrập thống nhất. \n",
      "Ông Carvalho cũng gặp khó khăn khi rất nhiều cầu thủ không có mặt trong các chuyến tập huấn. Thậm chí có những thời điểm chỉ có một cầu thủ duy nhất được 3-4 HLV \"chăm sóc\". Chính bởi vậy, trưởng đoàn Thavatchai đã quyết định thay vì được nhận mức lương ổn định, các tuyển thủ chỉ nhận 3.000 baht cho một ngày tập trung. \n",
      "\n",
      "\n",
      "-------------------------------\n",
      "Cate:  The gioi tre\n",
      "Content:  Tìm nguồn cảm hứng của bạn Mọi người đều có một người truyền cảm hứng lí tưởng trong tâm trí của mình, ngay cả khi bạn chưa gặp người đó, họ cũng vẫn sẽ là người truyền cảm hứng để bạn trở nên tuyệt vời và hoàn thành mục tiêu của mình. Khi khó tìm được động lực, việc theo đuổi hoặc bắt chước hình tượng của mình có thể là một cách hữu ích. Khi tìm người truyền cảm hứng cho mình, hãy chọn những người đi trước. Bạn có thể theo dõi xem họ đang thực hiện những dự án nào, họ đang đi du lịch ở đâu và họ đã khám phá ra những điều mới gì về thế giới. Suy ngẫm về sự tiến bộ của họ và sử dụng nó làm bằng chứng cho thấy những gì bạn đang cố gắng thực hiện là có thể.Giữ mục tiêu phía trước và trung tâm Hãy nhớ những mục tiêu mà bạn đã viết vào đầu năm (và hy vọng đã được cập nhật hàng quý). Một ý tưởng để duy trì động lực là giữ chúng ở vị trí trung tâm. Bạn có thể lấy chúng ra để đọc hàng ngày hoặc luôn nhắc nhở mình phải hoàn thành mục tiêu của bản thân.Viết một danh sách việc cần làm cụ thể Chúng ta thường có xu hướng viết những việc cần làm một cách chung chung. Ví dụ: Cập nhật máy tính mới hoặc “Viết một bài báo mới”. Tuy nhiên, chính sự chung chung này sẽ khiến bạn mơ hồ và không có ý định thực hiện chúng một cách triệt để. Do đó, hãy đảm bảo rằng các nhiệm vụ của bạn phải cụ thể. Biết những gì bạn dự định làm mỗi ngày và những nhiệm vụ đó đẩy bạn đến gần mục tiêu của mình như thế nào. Bằng cách biết chính xác những gì bạn hy vọng đạt được mỗi ngày, bạn sẽ có nhiều khả năng thực sự làm được điều đó.Sử dụng công cụ lập kế hoạch Thực chất, bạn hoàn toàn có thể sử dụng các công cụ lập kế hoạch như Google Calendar để tạo kế hoạch nhắc nhở bản thân thực hiện các hoạt động được đề ra trong ngày. Một điều thực sự hữu ích khi bạn sử dụng công cụ lập kế hoạch, đó là chúng sẽ giúp bạn cài đặt thời gian hoàn thành mỗi công việc nhỏ, chúng sẽ báo thời gian bắt đầu và cần kết thúc công việc như thế nào. Điều này sẽ khiến bạn có động lực làm việc hơn. Ngoài ra, khi bạn kết thúc một nhiệm vụ nhỏ trong ngày, bạn hoàn toàn có thể đánh dấu các mục đã hoàn thành, chúng có tác dụng kiểm soát được những hoạt động còn lại cần hoàn thiện và giúp bạn điều chỉnh thời gian cũng như tốc độ công việc phù hợp.Nói không Bạn có bao giờ cảm thấy một trong những lý do khiến bạn khó duy trì động lực là vì bạn đã cam kết với quá nhiều thứ không? Bạn có thể bị lôi kéo tham dự các sự kiện, tình nguyện và tham gia các hoạt động cộng đồng. Cách riêng, bạn hoàn toàn có thể tham gia các sự kiện này bởi chúng sẽ mang lại sự tích cực cũng như trải nghiệm cho chính bạn. Tuy nhiên, điều cần thiết là bạn nên lập cho mình một chính sách ưu tiên, những việc cần làm hiện tại là gì và lựa chọn các hoạt động phù hợp với lịch trình của bạn.Ăn uống lành mạnh Một trong những yếu tố để duy trì động lực chính là chế độ ăn uống của bạn. Khi bạn quá chán nản với công việc, lựa chọn đồ ăn của bạn cũng trở nên tồi tệ hơn, bạn có thể lựa chọn những loại đồ ăn nhanh thay vì một bữa ăn đầy đủ chất dinh dưỡng. Hãy duy trì chế độ dinh dưỡng của bạn với đầy đủ các loại thực phẩm và chất xơ. Thực chất, nấu ăn cũng sẽ giúp bạn có thêm không gian và thời gian để bình tĩnh, thư giãn hoặc suy nghĩ về một số kế hoạch cần thiết mà bạn chuẩn bị thực hiện trong tương lai.Tập thể dục thường xuyên Lịch trình công việc của bạn có thể sẽ dày đặc bởi những công việc từ công ty tới gia đình. Tuy nhiên, bạn nên cố gắng dành thời gian để duy trì sức khỏe của mình. Tập thể dục có tác dụng giúp bạn thư giãn, thoải mái đầu óc và sáng tạo trong công việc. Khi bạn mất dần động lực làm việc, bạn hãy dành thời gian để ra ngoài thư giãn, có thể chạy, đi bộ hoặc đi dạo để hít thở không khí trong lành. Điều này sẽ giúp cơ thể bạn trở nên thoải mái hơn đồng thời bạn cũng sẽ có động lực hơn để tiếp tục thực hiện mục tiêu của mình.Trò chuyện với bạn bè Một trong những cách lấy lại động lực là trò chuyện với những người thân của bạn. Hãy chia sẻ những vấn đề bạn đang gặp phải và xin lời khuyên từ họ. Từ đó, bạn có thể tìm ra cách giải quyết phù hợp nhất cho tình huống của mình. Ngoài ra, nhờ việc lắng nghe những câu chuyện và thành tựu của họ, bạn có thể tìm được động lực của chính mình./.\n",
      "-------------------------------\n",
      "Cate:  Bong da\n",
      "Content:  Bremen lần đầu tiên đoạt cú đúp\n",
      "CLB tân vô địch Bundesliga đêm qua đã giành thắng lợi sát nút với kết quả 3-2 trước Alemannia Aachen, trong trận tranh Cup quốc gia Đức diễn ra căng thẳng. Qua đó, lần đầu tiên trong lịch sử, Bremen giành cú đúp danh hiệu. Cũng trong đêm thứ bảy, Paris St Germain đoạt Cup quốc gia Pháp.\n",
      "Trên sân Olympic của Bayern, Borowski đưa Bremen vượt lên dẫn trước sau 31 phút nhập cuộc, bằng pha dứt điểm từ cự ly khoảng 11 m. Tuyển thủ Croatia Ivan Klasnic nhân đôi cách biệt với cú sút chìm chéo góc ngay trong khu phạt đền, ở phút 44. Phút 51, hậu vệ Stefan Blank có cú đánh đầu siêu hạng, giúp Aachen rút ngắn tỷ số xuống còn 1-2. Nhưng đến phút 75, đội hạng Nhì nước Đức gặp khó khăn lớn khi tiền vệ Stanley Mbwando bị truất quyền thi đấu, vì phạm lỗi thô bạo với Borowski. Chỉ khoảng 9 phút sau, đích thân Borowski đột nhập vào khu 16m50 để nâng tỷ số lên 3-1. Tuy nhiên, Aachen không dễ dàng chấp nhận buông xuôi. Họ chiến đấu đến cùng, và được đền đáp bởi bàn rút ngắn kết quả xuống 3-2 đúng vào phút đá bù giờ, nhờ công của chân sút người Hà Lan Erik Meijer.\n",
      "Đây là lần thứ 5, Bremen đoạt Cup quốc gia. Sau trận đấu, HLV Thomas Schaaf thở phào: \"Chúng tôi cuối cùng đã thắng. Trận chung kết rất căng thẳng. Sau khi đã bị dẫn 0-2, Aachen vẫn không hề lúng túng, họ chiến đấu rất kiên cường và không cho chúng tôi một phút nghỉ ngơi\"\n",
      "Cũng trong đêm qua, tuyển thủ Bồ Đào Nha - Pauleta - ghi bàn duy nhất ở phút 66, giúp Paris St Germain giành thắng lợi 1-0 trước trước CLB hạng Nhì Chateauroux ở trận tranh Cup nước Pháp. Như vậy, PSG đã có được danh hiệu đầu tiên sau 6 năm liên tục trắng tay. Đây là lần thứ 6 trong lịch sử, đội bóng này giành Cup quốc gia Pháp. Nhưng họ sẽ tham dự Champions League mùa sau nhờ vị trí thứ 2 chung cuộc ở giải vô địch Pháp, và nhường lại suất dự Cup UEFA cho Chateauroux.\n",
      "\n",
      "\n",
      "-------------------------------\n"
     ]
    }
   ],
   "source": [
    "# Test dữ liệu đã load được\n",
    "random_list = random.sample(range(0, len(train_x) - 1), 5)\n",
    "for i in random_list:\n",
    "    print(\"Cate: \", train_y[i])\n",
    "    print(\"Content: \", train_x[i])\n",
    "    print('-------------------------------')"
   ]
  },
  {
   "cell_type": "code",
   "execution_count": 25,
   "id": "f949c42f",
   "metadata": {},
   "outputs": [
    {
     "data": {
      "image/png": "[encoded data removed]",
      "text/plain": [
       "<Figure size 4500x3000 with 1 Axes>"
      ]
     },
     "metadata": {},
     "output_type": "display_data"
    }
   ],
   "source": [
    "plt.figure(figsize=(45,30))\n",
    "plt.title('Số lượng datapoint với mỗi nhãn trong tập huấn luyện')\n",
    "plt.bar(list(label_len.keys()), label_len.values(), color='g')\n",
    "plt.show()"
   ]
  },
  {
   "cell_type": "markdown",
   "id": "7f0beb21",
   "metadata": {},
   "source": [
    "### Đánh giá sơ bộ tập dữ liệu"
   ]
  },
  {
   "cell_type": "code",
   "execution_count": 22,
   "id": "0dfc6b11",
   "metadata": {},
   "outputs": [
    {
     "name": "stdout",
     "output_type": "stream",
     "text": [
      "Độ dài trung bình: 530.2749509891285\n"
     ]
    }
   ],
   "source": [
    "# Tính độ dài trung bình của tập dữ liệu\n",
    "def sentence_len(text):\n",
    "    return len(text.split(\" \"))\n",
    "\n",
    "len_list = []\n",
    "\n",
    "for content in train_x:\n",
    "    len_list.append(sentence_len(content))\n",
    "\n",
    "print('Độ dài trung bình:', np.mean(len_list))"
   ]
  },
  {
   "cell_type": "code",
   "execution_count": 23,
   "id": "3e4741a0",
   "metadata": {
    "scrolled": false
   },
   "outputs": [
    {
     "data": {
      "image/png": "[encoded data removed]",
      "text/plain": [
       "<Figure size 1600x800 with 1 Axes>"
      ]
     },
     "metadata": {},
     "output_type": "display_data"
    }
   ],
   "source": [
    "# Vẽ biểu đồ để quan sát phân bố độ dài của từng văn bản\n",
    "plt.figure(figsize=(16,8))\n",
    "plt.title(\"Độ dài các tin tức\")\n",
    "plt.xlabel(\"Độ dài (từ)\")\n",
    "plt.ylabel(\"Số tin tức\")\n",
    "plt.hist(np.array(len_list), bins=int(math.sqrt(len(len_list))), histtype='step', range=(0, 4000))\n",
    "plt.savefig('image/dataset_before_preprocess.png', facecolor='whitesmoke', bbox_inches='tight')\n",
    "plt.show()"
   ]
  },
  {
   "cell_type": "markdown",
   "id": "cbd5e48d",
   "metadata": {},
   "source": [
    "## Tiền xử lý gồm những việc sau:\n",
    "- Xoá HTML code\n",
    "- Chuẩn hóa bảng mã Unicode\n",
    "- Chuẩn hóa kiểu gõ dấu tiếng Việt (dùng òa úy thay cho oà uý)\n",
    "- Đưa văn bản về dạng viết thường\n",
    "- Thực hiện tách từ tiếng Việt\n",
    "- Xóa các ký tự đặc biệt\n",
    "- Loại bỏ stopwords"
   ]
  },
  {
   "cell_type": "markdown",
   "id": "38d33474",
   "metadata": {},
   "source": [
    "#### 1. Xoá HTML code\n",
    "Dữ liệu thu thập từ các trang web có thể có những đoạn mã HTML. Những đoạn mã này không được sử dụng và làm kém chất lượng của dữ liệu.\n",
    "Để xoá những đoạn mã HTML, ta dùng regex (Regular Expression) trong Python."
   ]
  },
  {
   "cell_type": "code",
   "execution_count": 19,
   "id": "bfad1def",
   "metadata": {},
   "outputs": [
    {
     "data": {
      "text/plain": [
       "'Đây là 1 ví dụ xoá html code'"
      ]
     },
     "execution_count": 19,
     "metadata": {},
     "output_type": "execute_result"
    }
   ],
   "source": [
    "import re\n",
    "# hàm xoá html code\n",
    "def remove_html(txt):\n",
    "    return re.sub(r'<[^>]*>', '', txt)\n",
    "\n",
    "#ví dụ\n",
    "txt = \"<p class=\\\"par\\\">Đây là 1 ví dụ xoá html code</p>\"\n",
    "remove_html(txt)"
   ]
  },
  {
   "cell_type": "markdown",
   "id": "a9bbe0e3",
   "metadata": {},
   "source": [
    "#### 2. Chuẩn hoá bảng mã Unicode\n",
    "Hiện nay, có 2 loại mã Unicode được sử dụng phổ biến, **Unicode tổ hợp** và **Unicode dựng sẵn**. Việc sử dụng 2 loại mã khác nhau sẽ dẫn đến kết quả khác nhau.\n",
    "Ví dụ"
   ]
  },
  {
   "cell_type": "code",
   "execution_count": 19,
   "id": "040f25c2",
   "metadata": {},
   "outputs": [
    {
     "data": {
      "text/plain": [
       "True"
      ]
     },
     "execution_count": 19,
     "metadata": {},
     "output_type": "execute_result"
    }
   ],
   "source": [
    "'hiếu' == 'hiếu'"
   ]
  },
  {
   "cell_type": "code",
   "execution_count": 20,
   "id": "d2a037ff",
   "metadata": {},
   "outputs": [
    {
     "data": {
      "text/plain": [
       "False"
      ]
     },
     "execution_count": 20,
     "metadata": {},
     "output_type": "execute_result"
    }
   ],
   "source": [
    "'hiếu' == 'hiếu'"
   ]
  },
  {
   "cell_type": "markdown",
   "id": "4829b8ed",
   "metadata": {},
   "source": [
    "Để giải quyết vấn đề này, ta đưa tất cả dữ liệu về loại mã **Unicode dựng sẵn** vì nó khá phổ biến"
   ]
  },
  {
   "cell_type": "code",
   "execution_count": 8,
   "id": "00159c0f",
   "metadata": {},
   "outputs": [],
   "source": [
    "uniChars = \"àáảãạâầấẩẫậăằắẳẵặèéẻẽẹêềếểễệđìíỉĩịòóỏõọôồốổỗộơờớởỡợùúủũụưừứửữựỳýỷỹỵÀÁẢÃẠÂẦẤẨẪẬĂẰẮẲẴẶÈÉẺẼẸÊỀẾỂỄỆĐÌÍỈĨỊÒÓỎÕỌÔỒỐỔỖỘƠỜỚỞỠỢÙÚỦŨỤƯỪỨỬỮỰỲÝỶỸỴÂĂĐÔƠƯ\"\n",
    "unsignChars = \"aaaaaaaaaaaaaaaaaeeeeeeeeeeediiiiiooooooooooooooooouuuuuuuuuuuyyyyyAAAAAAAAAAAAAAAAAEEEEEEEEEEEDIIIOOOOOOOOOOOOOOOOOOOUUUUUUUUUUUYYYYYAADOOU\"\n",
    "\n",
    "# Hàm tạo dict để chuyển định dạng\n",
    "def loaddicchar():\n",
    "    dic = {}\n",
    "    char1252 = 'à|á|ả|ã|ạ|ầ|ấ|ẩ|ẫ|ậ|ằ|ắ|ẳ|ẵ|ặ|è|é|ẻ|ẽ|ẹ|ề|ế|ể|ễ|ệ|ì|í|ỉ|ĩ|ị|ò|ó|ỏ|õ|ọ|ồ|ố|ổ|ỗ|ộ|ờ|ớ|ở|ỡ|ợ|ù|ú|ủ|ũ|ụ|ừ|ứ|ử|ữ|ự|ỳ|ý|ỷ|ỹ|ỵ|À|Á|Ả|Ã|Ạ|Ầ|Ấ|Ẩ|Ẫ|Ậ|Ằ|Ắ|Ẳ|Ẵ|Ặ|È|É|Ẻ|Ẽ|Ẹ|Ề|Ế|Ể|Ễ|Ệ|Ì|Í|Ỉ|Ĩ|Ị|Ò|Ó|Ỏ|Õ|Ọ|Ồ|Ố|Ổ|Ỗ|Ộ|Ờ|Ớ|Ở|Ỡ|Ợ|Ù|Ú|Ủ|Ũ|Ụ|Ừ|Ứ|Ử|Ữ|Ự|Ỳ|Ý|Ỷ|Ỹ|Ỵ'.split(\n",
    "        '|')\n",
    "    charutf8 = \"à|á|ả|ã|ạ|ầ|ấ|ẩ|ẫ|ậ|ằ|ắ|ẳ|ẵ|ặ|è|é|ẻ|ẽ|ẹ|ề|ế|ể|ễ|ệ|ì|í|ỉ|ĩ|ị|ò|ó|ỏ|õ|ọ|ồ|ố|ổ|ỗ|ộ|ờ|ớ|ở|ỡ|ợ|ù|ú|ủ|ũ|ụ|ừ|ứ|ử|ữ|ự|ỳ|ý|ỷ|ỹ|ỵ|À|Á|Ả|Ã|Ạ|Ầ|Ấ|Ẩ|Ẫ|Ậ|Ằ|Ắ|Ẳ|Ẵ|Ặ|È|É|Ẻ|Ẽ|Ẹ|Ề|Ế|Ể|Ễ|Ệ|Ì|Í|Ỉ|Ĩ|Ị|Ò|Ó|Ỏ|Õ|Ọ|Ồ|Ố|Ổ|Ỗ|Ộ|Ờ|Ớ|Ở|Ỡ|Ợ|Ù|Ú|Ủ|Ũ|Ụ|Ừ|Ứ|Ử|Ữ|Ự|Ỳ|Ý|Ỷ|Ỹ|Ỵ\".split(\n",
    "        '|')\n",
    "    for i in range(len(char1252)):\n",
    "        dic[char1252[i]] = charutf8[i]\n",
    "    return dic\n",
    "\n",
    "dicchar = loaddicchar()\n",
    " \n",
    "# Đưa toàn bộ dữ liệu qua hàm này để chuẩn hóa lại\n",
    "def convert_unicode(txt):\n",
    "    return re.sub(\n",
    "        r'à|á|ả|ã|ạ|ầ|ấ|ẩ|ẫ|ậ|ằ|ắ|ẳ|ẵ|ặ|è|é|ẻ|ẽ|ẹ|ề|ế|ể|ễ|ệ|ì|í|ỉ|ĩ|ị|ò|ó|ỏ|õ|ọ|ồ|ố|ổ|ỗ|ộ|ờ|ớ|ở|ỡ|ợ|ù|ú|ủ|ũ|ụ|ừ|ứ|ử|ữ|ự|ỳ|ý|ỷ|ỹ|ỵ|À|Á|Ả|Ã|Ạ|Ầ|Ấ|Ẩ|Ẫ|Ậ|Ằ|Ắ|Ẳ|Ẵ|Ặ|È|É|Ẻ|Ẽ|Ẹ|Ề|Ế|Ể|Ễ|Ệ|Ì|Í|Ỉ|Ĩ|Ị|Ò|Ó|Ỏ|Õ|Ọ|Ồ|Ố|Ổ|Ỗ|Ộ|Ờ|Ớ|Ở|Ỡ|Ợ|Ù|Ú|Ủ|Ũ|Ụ|Ừ|Ứ|Ử|Ữ|Ự|Ỳ|Ý|Ỷ|Ỹ|Ỵ',\n",
    "        lambda x: dicchar[x.group()], txt)\n",
    " "
   ]
  },
  {
   "cell_type": "code",
   "execution_count": 9,
   "id": "dbca663b",
   "metadata": {},
   "outputs": [
    {
     "name": "stdout",
     "output_type": "stream",
     "text": [
      "False\n",
      "True\n",
      "True\n"
     ]
    }
   ],
   "source": [
    "#Thử nghiệm\n",
    "type1 = 'hiếu' # Loại dựng sẵn\n",
    "type2 = 'hiếu' # Loại tổ hợp\n",
    "\n",
    "print(type1 == type2)\n",
    "# Nếu là loại dựng sẵn thì không thay đổi\n",
    "print(type1 == convert_unicode(type1))\n",
    "# Nếu là loại tổ hợp thì sẽ đưa về loại dựng sẵn\n",
    "print(type1 == convert_unicode(type2))"
   ]
  },
  {
   "cell_type": "markdown",
   "id": "fdaece81",
   "metadata": {},
   "source": [
    "#### 3. Chuẩn hoá kiểu gõ dấu và đưa về dạng viết thường\n",
    "  Bằng mắt thường, ta cũng có thể phân biệt được hai kiểu gõ dấu: **oà** và **òa**, lần lượt là kiểu gõ mới và cũ (phổ biến hơn). Lỗi gõ dấu thường xảy ra là do cách đánh máy của người viết báo, do khác bộ mã hoặc đôi khi nó thường xuất hiện trong các văn bản cũ. Tuy nhiên việc khác bộ mã đã được xử lý ở trên, do đó, ở phần này, ta sẽ sửa những kiểu gõ dấu tiếng Việt khác nhau về kiểu cũ (phổ biến hơn): **òa**"
   ]
  },
  {
   "cell_type": "markdown",
   "id": "1fa59646",
   "metadata": {},
   "source": [
    "Việc đưa các từ trong câu về chữ viết thường là rất cần thiết. Bởi vì đặc trưng này không có tác dụng ở bài toán phân loại văn bản. Đưa về chữ viết thường giúp giảm số lượng đặc trưng phải học (vì máy hiểu chữ hoa chữ thường là 2 chữ khác nhau) và tăng độ chính xác hơn cho mô hình."
   ]
  },
  {
   "cell_type": "code",
   "execution_count": 10,
   "id": "c0e3b15f",
   "metadata": {},
   "outputs": [
    {
     "name": "stdout",
     "output_type": "stream",
     "text": [
      "False\n",
      "True\n"
     ]
    }
   ],
   "source": [
    "# Danh sách nguyên âm và các dấu\n",
    "bang_nguyen_am = [['a', 'à', 'á', 'ả', 'ã', 'ạ', 'a'],\n",
    "                  ['ă', 'ằ', 'ắ', 'ẳ', 'ẵ', 'ặ', 'aw'],\n",
    "                  ['â', 'ầ', 'ấ', 'ẩ', 'ẫ', 'ậ', 'aa'],\n",
    "                  ['e', 'è', 'é', 'ẻ', 'ẽ', 'ẹ', 'e'],\n",
    "                  ['ê', 'ề', 'ế', 'ể', 'ễ', 'ệ', 'ee'],\n",
    "                  ['i', 'ì', 'í', 'ỉ', 'ĩ', 'ị', 'i'],\n",
    "                  ['o', 'ò', 'ó', 'ỏ', 'õ', 'ọ', 'o'],\n",
    "                  ['ô', 'ồ', 'ố', 'ổ', 'ỗ', 'ộ', 'oo'],\n",
    "                  ['ơ', 'ờ', 'ớ', 'ở', 'ỡ', 'ợ', 'ow'],\n",
    "                  ['u', 'ù', 'ú', 'ủ', 'ũ', 'ụ', 'u'],\n",
    "                  ['ư', 'ừ', 'ứ', 'ử', 'ữ', 'ự', 'uw'],\n",
    "                  ['y', 'ỳ', 'ý', 'ỷ', 'ỹ', 'ỵ', 'y']]\n",
    "# Danh sách dấu tương ứng với danh sách nguyên âm bên trên\n",
    "bang_ky_tu_dau = ['', 'f', 's', 'r', 'x', 'j']\n",
    "\n",
    "# Chuyển ký tự sang chỉ số (i, j), trong đó i là nguyên âm và j là dấu tương ứng\n",
    "nguyen_am_to_ids = {}\n",
    "\n",
    "# Tạo dict\n",
    "for i in range(len(bang_nguyen_am)):\n",
    "    for j in range(len(bang_nguyen_am[i]) - 1):\n",
    "        nguyen_am_to_ids[bang_nguyen_am[i][j]] = (i, j)\n",
    "nguyen_am_to_ids['à']\n",
    "\n",
    "# Kiểm tra tính hợp lệ của từ trong tiếng Việt\n",
    "# Các nguyên âm sẽ đứng cạnh nhau tạo thành cụm, và mỗi từ tối đa 1 cụm nguyên âm\n",
    "# Nguyên->Ng(uyê)n, Chào->Ch(ào), Ngủ->Ng(ủ)\n",
    "def is_valid_vietnam_word(word):\n",
    "    chars = list(word)\n",
    "    nguyen_am_index = -1\n",
    "    \n",
    "    # Duyệt từng ký tự trong một từ\n",
    "    for index, char in enumerate(chars):\n",
    "        x, y = nguyen_am_to_ids.get(char, (-1, -1)) # x xác định nguyên âm, y xác định dấu\n",
    "        if x != -1: # Nếu char là nguyên âm\n",
    "            if nguyen_am_index == -1: # Nếu chưa tìm thấy nguyên âm\n",
    "                nguyen_am_index = index\n",
    "            else: # Nếu đã tìm thấy nguyên âm\n",
    "                if index - nguyen_am_index != 1: # Nếu nguyên âm không đứng cạnh nguyên âm đã tìm thấy\n",
    "                    return False\n",
    "                nguyen_am_index = index\n",
    "    return True\n",
    "\n",
    "print(is_valid_vietnam_word('Hello'))\n",
    "print(is_valid_vietnam_word('Nguyên'))"
   ]
  },
  {
   "cell_type": "code",
   "execution_count": 12,
   "id": "30d700ea",
   "metadata": {},
   "outputs": [
    {
     "name": "stdout",
     "output_type": "stream",
     "text": [
      "hai đội đã hoà nhau. trận đấu rất hay! quá tuyệt vời!\n"
     ]
    }
   ],
   "source": [
    "def chuan_hoa_dau_tu_tieng_viet(word):\n",
    "    if not is_valid_vietnam_word(word): # Không phải từ tiếng việt sẽ không xử lý và trả lại.\n",
    "        return word\n",
    "\n",
    "    chars = list(word)\n",
    "    dau_cau = 0\n",
    "    nguyen_am_index = []\n",
    "    qu_or_gi = False\n",
    "    \n",
    "    for index, char in enumerate(chars): # Duyệt từng ký tự\n",
    "        x, y = nguyen_am_to_ids.get(char, (-1, -1))\n",
    "\n",
    "        if x == -1: # Nếu ký tự là phụ âm\n",
    "            continue\n",
    "        elif x == 9:  # check \"qu\"\n",
    "            if index != 0 and chars[index - 1] == 'q':\n",
    "                chars[index] = 'u'\n",
    "                qu_or_gi = True\n",
    "        elif x == 5:  # check \"gi\"\n",
    "            if index != 0 and chars[index - 1] == 'g':\n",
    "                chars[index] = 'i'\n",
    "                qu_or_gi = True\n",
    "        \n",
    "        if y != 0: # Nếu có dấu\n",
    "            dau_cau = y\n",
    "            chars[index] = bang_nguyen_am[x][0] # Bỏ dấu\n",
    "        \n",
    "        # Nếu không phải trường hợp 'qu' hoặc 'gi' hoặc là index khác 1 (nguyên âm từ ký tự thứ 3 trở đi)\n",
    "        if not qu_or_gi or index != 1:\n",
    "            nguyen_am_index.append(index)\n",
    "    \n",
    "    if len(nguyen_am_index) < 2:\n",
    "        if qu_or_gi:\n",
    "            if len(chars) == 2:\n",
    "                x, y = nguyen_am_to_ids.get(chars[1])\n",
    "                chars[1] = bang_nguyen_am[x][dau_cau]\n",
    "            else:\n",
    "                x, y = nguyen_am_to_ids.get(chars[2], (-1, -1))\n",
    "                if x != -1:\n",
    "                    chars[2] = bang_nguyen_am[x][dau_cau]\n",
    "                else:\n",
    "                    chars[1] = bang_nguyen_am[5][dau_cau] if chars[1] == 'i' else bang_nguyen_am[9][dau_cau]\n",
    "            return ''.join(chars)\n",
    "        return word\n",
    "\n",
    "    for index in nguyen_am_index:\n",
    "        x, y = nguyen_am_to_ids[chars[index]]\n",
    "        if x == 4 or x == 8:  # ê, ơ\n",
    "            chars[index] = bang_nguyen_am[x][dau_cau]\n",
    "            return ''.join(chars)\n",
    "\n",
    "    if len(nguyen_am_index) == 2:\n",
    "        if nguyen_am_index[-1] == len(chars) - 1:\n",
    "            x, y = nguyen_am_to_ids[chars[nguyen_am_index[0]]]\n",
    "            chars[nguyen_am_index[0]] = bang_nguyen_am[x][dau_cau]\n",
    "        else:\n",
    "            x, y = nguyen_am_to_ids[chars[nguyen_am_index[1]]]\n",
    "            chars[nguyen_am_index[1]] = bang_nguyen_am[x][dau_cau]\n",
    "    else:\n",
    "        x, y = nguyen_am_to_ids[chars[nguyen_am_index[1]]]\n",
    "        chars[nguyen_am_index[1]] = bang_nguyen_am[x][dau_cau]\n",
    "    return ''.join(chars)\n",
    "\n",
    "# Chuẩn hoá dấu câu cho cả câu và đưa về dạng viết thường\n",
    "def chuan_hoa_dau_cau_tieng_viet(sentence):\n",
    "    sentence = sentence.lower() # Chuyển về dạng viết thường\n",
    "    words = sentence.split()\n",
    "    \n",
    "    # Xử lý trên từng từ\n",
    "    for index, word in enumerate(words):\n",
    "        cw = re.sub(r'(^\\\\p{P}*)([p{L}.]*\\\\p{L}+)(\\\\p{P}*$)', r'\\1/\\2/\\3', word).split('/')\n",
    "        if len(cw) == 3:\n",
    "            cw[1] = chuan_hoa_dau_tu_tieng_viet(cw[1])\n",
    "        words[index] = ''.join(cw)\n",
    "    return ' '.join(words)\n",
    "\n",
    "print(chuan_hoa_dau_cau_tieng_viet(\"Hai đội đã hoà nhau. Trận đấu rất hay! Quá tuyệt vời!\"))"
   ]
  },
  {
   "cell_type": "markdown",
   "id": "2b218a78",
   "metadata": {},
   "source": [
    "#### 4. Tách từ tiếng việt"
   ]
  },
  {
   "cell_type": "markdown",
   "id": "d454dfd0",
   "metadata": {},
   "source": [
    "Đơn vị từ trong tiếng việt gồm từ đơn (học) và từ ghép (học sinh). Ta phải xử lý để mô hình học máy cần phân biệt được từ đơn và từ ghép. Nếu không, đối với máy tất cả đều là từ đơn."
   ]
  },
  {
   "cell_type": "markdown",
   "id": "26dbbc09",
   "metadata": {},
   "source": [
    "Mô hình học sẽ coi các từ là đặc trưng, phân tách bởi dấu cách. Ta cần phải nối các từ ghép lại"
   ]
  },
  {
   "cell_type": "markdown",
   "id": "3789d175",
   "metadata": {},
   "source": [
    "Ví dụ: Học sinh học sinh học -> Học_sinh học sinh_học"
   ]
  },
  {
   "cell_type": "markdown",
   "id": "cf7e63e2",
   "metadata": {},
   "source": [
    "Bài toán này là một bài toán cơ sở trong NLP. Hiện nay có khá nhiều thư viện mã nguồn mở giải quyết bài toán này như **underthesea** và **pyvi**. Trong bài này, ta sẽ sử dụng thư viện **underthesea**"
   ]
  },
  {
   "cell_type": "code",
   "execution_count": 13,
   "id": "edf8a458",
   "metadata": {},
   "outputs": [
    {
     "name": "stdout",
     "output_type": "stream",
     "text": [
      "['Chàng', 'trai', '2000', 'Hải Dương', 'khởi nghiệp', 'từ', 'nghề', 've chai', ',', 'sau', '10', 'năm', ',', 'anh', 'ấy', 'thành', 'vua', 've chai']\n",
      "Chàng trai 2000 Hải_Dương khởi_nghiệp từ nghề ve_chai , sau 10 năm , anh ấy thành vua ve_chai\n"
     ]
    }
   ],
   "source": [
    "# Import thư viện underthesea\n",
    "from underthesea import word_tokenize\n",
    "\n",
    "# Ví dụ\n",
    "sentence = \"Chàng trai 2000 Hải Dương khởi nghiệp từ nghề ve chai, sau 10 năm, anh ấy thành vua ve chai\"\n",
    "print(word_tokenize(sentence))\n",
    "print(word_tokenize(sentence, format=\"text\"))"
   ]
  },
  {
   "cell_type": "markdown",
   "id": "86d90dd6",
   "metadata": {},
   "source": [
    "#### 5. Xoá các ký tự không cần thiết"
   ]
  },
  {
   "cell_type": "markdown",
   "id": "beefb5a1",
   "metadata": {},
   "source": [
    "Việc loại bỏ các ký tự không cần thiết giúp:\n",
    "- Giảm số chiều đặc trưng, tăng tốc độc học và xử lý\n",
    "- Tránh gây nhiễu, ảnh hưởng xấu tới kết quả mô hình"
   ]
  },
  {
   "cell_type": "markdown",
   "id": "d5f9f3ef",
   "metadata": {},
   "source": [
    "Loại các dấu ngắt câu, các ký tự đặc biệt"
   ]
  },
  {
   "cell_type": "code",
   "execution_count": 14,
   "id": "47a9e187",
   "metadata": {},
   "outputs": [],
   "source": [
    "def remove_unnecessary_character(document):\n",
    "    # Xoá các ký tự không cần thiết\n",
    "    document = re.sub(r'[^\\s\\wáàảãạăắằẳẵặâấầẩẫậéèẻẽẹêếềểễệóòỏõọôốồổỗộơớờởỡợíìỉĩịúùủũụưứừửữựýỳỷỹỵđ_]',' ',document)\n",
    "    # Xoá khoảng trắng thừa\n",
    "    document = re.sub(r'\\s+', ' ', document).strip()\n",
    "    return document"
   ]
  },
  {
   "cell_type": "code",
   "execution_count": 15,
   "id": "c56234b6",
   "metadata": {},
   "outputs": [
    {
     "data": {
      "text/plain": [
       "'Xin chào Tôi tên là Nguyễn Văn A Ngày hôm nay của bạn thế nào'"
      ]
     },
     "execution_count": 15,
     "metadata": {},
     "output_type": "execute_result"
    }
   ],
   "source": [
    "sentence = \"Xin chào! Tôi tên là Nguyễn Văn A. Ngày hôm nay của bạn thế nào?\"\n",
    "remove_unnecessary_character(sentence)"
   ]
  },
  {
   "cell_type": "markdown",
   "id": "1cb93dbe",
   "metadata": {},
   "source": [
    "#### 6. Tổng hợp các bước trên"
   ]
  },
  {
   "cell_type": "code",
   "execution_count": 16,
   "id": "cc66e12d",
   "metadata": {},
   "outputs": [],
   "source": [
    "def text_preprocessing(document):\n",
    "    # Xoá html code\n",
    "    document = remove_html(document)\n",
    "    # Chuẩn hóa unicode\n",
    "    document = convert_unicode(document)\n",
    "    # Chuẩn hóa cách gõ dấu tiếng Việt và đưa về dạng viết thường\n",
    "    document = chuan_hoa_dau_cau_tieng_viet(document)\n",
    "    # Tách từ\n",
    "    document = word_tokenize(document, format=\"text\")\n",
    "    # Xóa các ký tự không cần thiết và khoảng trắng thừa\n",
    "    document = remove_unnecessary_character(document)\n",
    "    return document"
   ]
  },
  {
   "cell_type": "code",
   "execution_count": 18,
   "id": "4ad7ee38",
   "metadata": {
    "scrolled": true
   },
   "outputs": [
    {
     "name": "stdout",
     "output_type": "stream",
     "text": [
      "tối 194 đồng_chí lê_minh khái bí_thư trung_ương đảng phó_thủ_tướng chính_phủ đã dự và phát_biểu tại lễ xuất_quân của đoàn thể_thao việt nam tham_dự sea_games 32 phát_biểu tại sự_kiện đồng_chí lê_minh khái bày_tỏ trong không_khí cả nước hân_hoan chào_mừng kỷ_niệm 48 năm ngày giải_phóng miền nam thống_nhất đất_nước hôm_nay chúng_ta hết_sức vui_mừng cùng có_mặt dự lễ xuất_quân_đoàn thể_thao việt nam tham_dự sea games lần thứ 32 được tổ_chức tại nước bạn láng_giềng anh_em campuchia đây là một trong những nhiệm_vụ quan_trọng nhất của thể_thao việt nam trong năm nay thay_mặt lãnh_đạo đảng nhà_nước đồng_chí lê_minh khái gửi tới toàn_thể các cán_bộ huấn_luyện_viên vận_động_viên các chuyên_gia của đoàn thể_thao việt nam và toàn_thể quý vị đại_biểu lời_chúc tốt_đẹp nhất chúc đoàn thể_thao việt nam thi_đấu thành_công tại sea games lần này đồng_chí lê_minh khái nhấn_mạnh thể_dục thể_thao giữ vị_trí quan_trọng góp_phần nâng cao sức_khỏe và chất_lượng cuộc_sống của nhân_dân xây_dựng đời_sống và môi_trường văn_hóa lành_mạnh củng_cố khối đại_đoàn_kết toàn dân đóng_góp vào công_cuộc bảo_vệ xây_dựng và phát_triển đất_nước mở_rộng quan_hệ hữu_nghị và hợp_tác quốc_tế của đất_nước ta bên cạnh việc chăm_lo phát_triển sự_nghiệp thể_dục thể_thao quần_chúng trong những năm gần đây đảng nhà_nước và toàn xã_hội ngày_càng quan_tâm tới công_tác đào_tạo vận_động_viên và phát_triển thể_thao thành_tích cao việc cử đoàn thể_thao việt nam tham_dự các đại_hội thể_thao quốc_tế trong đó có sea_games thể_hiện sự quan_tâm sâu_sắc của đảng nhà_nước và nhân_dân đối_với lĩnh_vực thể_dục thể_thao nước_nhà theo đồng_chí lê_minh khái sea games không chỉ đơn_thuần là sự_kiện thể_thao của các quốc_gia trong khu_vực đông_nam á là cơ_hội để các đoàn vận_động_viên đến từ 11 quốc_gia khu_vực đông nam á thể_hiện tài_năng nâng cao thành_tích thể_thao của mình mà_còn là ngày_hội thể_hiện_tình đoàn_kết hữu_nghị giao_lưu văn_hóa giữa các quốc_gia trong khu_vực nhắc lại cách đây tròn 1 năm lễ xuất_quân của đoàn thể_thao việt nam tham_dự sea_games 31 được tổ_chức trọng_thể đồng_chí lê_minh khái nhấn_mạnh sea_games 31 tổ_chức tại nước ta đã thành_công về nhiều mặt lan tỏa tích_cực bất_chấp mọi khó_khăn trong quá_trình chuẩn_bị do dịch_bệnh đã được các cấp có thẩm_quyền và xã_hội ghi_nhận biểu_dương khen_thưởng kịp_thời và xứng_đáng thời_gian qua đoàn thể_thao việt nam với 1003 thành_viên trong đó có 702 vận_động_viên 189 huấn_luyện_viên đã khắc_phục mọi khó_khăn miệt_mài rèn_luyện để chuẩn_bị tham_dự 3036 môn thể_thao với 447583 nội_dung thi_đấu tại sea_games 32 phấn_đấu duy_trì vị_trí ở tốp đầu đồng_chí lê_minh khái tin_tưởng rằng mặc_dù lần này chúng_ta không có nhiều thuận_lợi như sea_games 31 nhưng với vị_thế khả_năng của thể_thao việt nam trong khu_vực luôn trong tốp đầu từ sea_games 22 đến nay cơ_hội có_thể đạt được mục_tiêu đặt ra thậm_chí có_thể ở mức cao tôi biết rằng tất_cả thành_viên của đoàn nhận_thức rõ được vinh_dự và trách_nhiệm đã và đang phấn_đấu nỗ_lực với tinh_thần phát_huy cao nhất những thành_tích đã đạt được trong thời_gian qua đồng_chí lê_minh khái bày_tỏ thay_mặt lãnh_đạo đảng nhà_nước đồng_chí lê_minh khái ghi_nhận và đánh_giá cao sự nỗ_lực cố_gắng của các vận_động_viên huấn_luyện_viên chuyên_gia của đoàn thể_thao việt nam với niềm vinh_dự được đảng nhà_nước và nhân_dân giao_phó phát_huy những thành_công của thể_thao việt nam đã đạt được trong những năm qua đặc_biệt là những thành_công vượt_bậc tại sea_games 31 gần đây nhất mỗi thành_viên của đoàn thể_thao việt nam tham_dự sea_games 32 phải nhận_thức được trách_nhiệm vẻ_vang của mình cần thể_hiện tốt truyền_thống văn_hóa và lan tỏa những giá_trị tốt_đẹp của đất_nước đến bạn_bè quốc_tế tăng_cường tinh_thần đoàn_kết hữu_nghị giao_lưu học_tập kinh_nghiệm với các đoàn bạn mỗi một cá_nhân của đoàn thể_thao việt nam là một đại_sứ văn_hóa của đất_nước đồng_chí lê_minh khái nhấn_mạnh các thành_viên của đoàn cần đoàn_kết khắc_phục khó_khăn giữ vững kỷ_luật đem hết tinh_thần và nghị_lực để hoàn_thành nhiệm_vụ đã đề ra thi_đấu với tinh_thần thể_thao cao_thượng ngoan_cường sáng_tạo trung_thực để đạt thành_tích cao nhất tại đại_hội góp_phần nâng vị_thế của thể_thao việt nam lên một tầm cao mới khẳng_định được truyền_thống văn_hóa lâu_đời của việt nam tôn_trọng luật_lệ thi_đấu tôn_trọng truyền_thống văn_hóa của các nước tham_dự một lần nữa đồng_chí lê_minh khái chúc đoàn thể_thao việt nam thi_đấu thành_công giành được nhiều thành_tích xuất_sắc tại sea games lần thứ 32 tại buổi lễ tổng_cục_trưởng tổng_cục thể_dục thể_thao trưởng đoàn thể_thao việt nam dự sea_games 32 ông đặng việt hà cho biết đoàn thể_thao việt nam phấn_đấu đạt từ 89 đến 120 huy_chương vàng đứng top đầu các quốc_gia tham_dự duy_trì thứ_hạng cao ở các môn thể_thao olympic toàn_thể cán_bộ huấn_luyện_viên chuyên_gia vận_động_viên của đoàn thể_thao việt nam xin nhận nhiệm_vụ trước đảng nhà_nước và nhân_dân sẽ cố_gắng nỗ_lực thi_đấu hết_mình bình_tĩnh tự_tin mưu_trí sáng_tạo thi_đấu ngoan_cường giành từng huy_chương về cho đoàn và tổ_quốc đồng_thời mỗi thành_viên của đoàn sẽ thể_hiện tốt vai_trò là sứ_giả hòa_bình góp_phần giữ vững tăng_cường tình đoàn_kết hữu_nghị hợp_tác và phát_triển với các quốc_gia đông nam á ông đoàn việt hà nhấn_mạnh đoàn thể_thao việt nam đã sẵn_sàng các vận_động_viên đã sẵn_sàng và chúng_tôi luôn tự ý_thức được sứ_mệnh của mình là vì màu_cờ sắc_áo vì trách_nhiệm trước tổ_quốc và nhân_dân thay_mặt đoàn thể_thao việt nam ông đoàn việt hà bày_tỏ lời cảm_ơn chân_thành tới các đồng_chí lãnh_đạo đảng nhà_nước quốc_hội chính_phủ sự quan_tâm của các đồng_chí lãnh_đạo cùng toàn_thể nhân_dân sẽ tạo niềm tin mạnh_mẽ tiếp_sức cho đoàn trên con đường thực_hiện mục_tiêu đề ra trần_mạnh\n"
     ]
    }
   ],
   "source": [
    "# Kiểm tra\n",
    "document = \"\"\"\n",
    "Tối 19/4, đồng chí Lê Minh Khái, Bí thư Trung ương Đảng, Phó Thủ tướng Chính phủ đã dự và phát biểu tại Lễ xuất quân của Đoàn Thể thao Việt Nam tham dự SEA Games 32.\n",
    "Phát biểu tại sự kiện, đồng chí Lê Minh Khái bày tỏ: \"\"Trong không khí cả nước hân hoan chào mừng kỷ niệm 48 năm Ngày Giải phóng miền Nam, thống nhất đất nước, hôm nay, chúng ta hết sức vui mừng cùng có mặt dự Lễ xuất quân Đoàn Thể thao Việt Nam tham dự SEA Games lần thứ 32, được tổ chức tại nước bạn láng giềng anh em Campuchia, đây là một trong những nhiệm vụ quan trọng nhất của thể thao Việt Nam trong năm nay\"\".\n",
    "Thay mặt Lãnh đạo Đảng, Nhà nước, đồng chí Lê Minh Khái gửi tới toàn thể các cán bộ, huấn luyện viên, vận động viên, các chuyên gia của Đoàn thể thao Việt Nam và toàn thể quý vị đại biểu lời chúc tốt đẹp nhất, chúc Đoàn Thể thao Việt Nam thi đấu thành công tại SEA Games lần này!\n",
    "Đồng chí Lê Minh Khái nhấn mạnh: Thể dục thể thao giữ vị trí quan trọng góp phần nâng cao sức khỏe và chất lượng cuộc sống của nhân dân, xây dựng đời sống và môi trường văn hóa lành mạnh; củng cố khối đại đoàn kết toàn dân, đóng góp vào công cuộc bảo vệ, xây dựng và phát triển đất nước; mở rộng quan hệ hữu nghị và hợp tác quốc tế của đất nước ta.\n",
    "Bên cạnh việc chăm lo phát triển sự nghiệp thể dục thể thao quần chúng, trong những năm gần đây, Đảng, Nhà nước và toàn xã hội ngày càng quan tâm tới công tác đào tạo vận động viên và phát triển thể thao thành tích cao.\n",
    "Việc cử Đoàn Thể thao Việt Nam tham dự các Đại hội thể thao quốc tế, trong đó có SEA Games, thể hiện sự quan tâm sâu sắc của Đảng, Nhà nước và nhân dân đối với lĩnh vực thể dục thể thao nước nhà.\n",
    "Theo đồng chí Lê Minh Khái: SEA Games không chỉ đơn thuần là sự kiện thể thao của các quốc gia trong khu vực Đông Nam Á, là cơ hội để các đoàn vận động viên đến từ 11 quốc gia khu vực Đông Nam Á thể hiện tài năng, nâng cao thành tích thể thao của mình, mà còn là ngày hội thể hiện tình đoàn kết, hữu nghị, giao lưu văn hóa giữa các quốc gia trong khu vực.\n",
    "Nhắc lại cách đây tròn 1 năm, Lễ xuất quân của Đoàn Thể thao Việt Nam tham dự SEA Games 31 được tổ chức trọng thể, đồng chí Lê Minh Khái nhấn mạnh: SEA Games 31 tổ chức tại nước ta đã thành công về nhiều mặt, lan tỏa tích cực, bất chấp mọi khó khăn trong quá trình chuẩn bị do dịch bệnh; đã được các cấp có thẩm quyền và xã hội ghi nhận, biểu dương, khen thưởng kịp thời và xứng đáng.\n",
    "Thời gian qua, Đoàn Thể thao Việt Nam với 1003 thành viên, trong đó có 702 vận động viên, 189 huấn luyện viên đã khắc phục mọi khó khăn, miệt mài rèn luyện để chuẩn bị tham dự 30/36 môn thể thao với 447/583 nội dung thi đấu tại SEA Games 32, phấn đấu duy trì vị trí ở tốp đầu.\n",
    "Đồng chí Lê Minh Khái tin tưởng rằng: Mặc dù lần này chúng ta không có nhiều thuận lợi như SEA Games 31 nhưng với vị thế, khả năng của thể thao Việt Nam trong khu vực (luôn trong tốp đầu từ SEA Games 22 đến nay), cơ hội có thể đạt được mục tiêu đặt ra, thậm chí có thể ở mức cao.\n",
    "\"\"Tôi biết rằng tất cả thành viên của Đoàn nhận thức rõ được vinh dự và trách nhiệm, đã và đang phấn đấu, nỗ lực với tinh thần phát huy cao nhất những thành tích đã đạt được trong thời gian qua\"\", đồng chí Lê Minh Khái bày tỏ.Thay mặt lãnh đạo Đảng, Nhà nước, đồng chí Lê Minh Khái ghi nhận và đánh giá cao sự nỗ lực, cố gắng của các vận động viên, huấn luyện viên, chuyên gia của Đoàn Thể thao Việt Nam.\n",
    "Với niềm vinh dự được Đảng, Nhà nước và Nhân dân giao phó, phát huy những thành công của Thể thao Việt Nam đã đạt được trong những năm qua, đặc biệt là những thành công vượt bậc tại SEA Games 31 gần đây nhất, mỗi thành viên của Đoàn Thể thao Việt Nam tham dự SEA Games 32 phải nhận thức được trách nhiệm vẻ vang của mình, cần thể hiện tốt truyền thống văn hóa và lan tỏa những giá trị tốt đẹp của đất nước đến bạn bè quốc tế; tăng cường tinh thần đoàn kết hữu nghị, giao lưu học tập kinh nghiệm với các đoàn bạn. \n",
    "Mỗi một cá nhân của đoàn thể thao Việt Nam là một \"\"Đại sứ văn hóa\"\" của đất nước.\n",
    "Đồng chí Lê Minh Khái nhấn mạnh: Các thành viên của Đoàn cần đoàn kết, khắc phục khó khăn, giữ vững kỷ luật, đem hết tinh thần và nghị lực để hoàn thành nhiệm vụ đã đề ra; thi đấu với tinh thần thể thao cao thượng, ngoan cường, sáng tạo, trung thực để đạt thành tích cao nhất tại đại hội, góp phần nâng vị thế của thể thao Việt Nam lên một tầm cao mới, khẳng định được truyền thống văn hóa lâu đời của Việt Nam. Tôn trọng luật lệ thi đấu, tôn trọng truyền thống văn hóa của các nước tham dự.\n",
    "Một lần nữa, đồng chí Lê Minh Khái chúc Đoàn Thể thao Việt Nam thi đấu thành công, giành được nhiều thành tích xuất sắc tại SEA Games lần thứ 32!Tại buổi lễ, Tổng cục trưởng Tổng cục Thể dục Thể thao, Trưởng Đoàn thể thao Việt Nam dự SEA Games 32, ông Đặng Việt Hà cho biết: Đoàn Thể thao Việt Nam phấn đấu đạt từ 89 đến 120 huy chương vàng, đứng Top đầu các quốc gia tham dự, duy trì thứ hạng cao ở các môn thể thao Olympic.\n",
    "Toàn thể cán bộ, huấn luyện viên, chuyên gia, vận động viên của Đoàn Thể thao Việt Nam xin nhận nhiệm vụ trước Đảng, Nhà nước và nhân dân sẽ cố gắng nỗ lực thi đấu hết mình, bình tĩnh, tự tin, mưu trí, sáng tạo, thi đấu ngoan cường, giành từng huy chương về cho Đoàn và Tổ quốc.\n",
    "Đồng thời, mỗi thành viên của Đoàn sẽ thể hiện tốt vai trò là sứ giả hòa bình, góp phần giữ vững, tăng cường tình đoàn kết, hữu nghị hợp tác và phát triển với các quốc gia Đông Nam Á.\n",
    "Ông Đoàn Việt Hà nhấn mạnh: \"\"Đoàn Thể thao Việt Nam đã sẵn sàng, các vận động viên đã sẵn sàng và chúng tôi luôn tự ý thức được sứ mệnh của mình là vì \"\"màu cờ, sắc áo\"\", vì trách nhiệm trước Tổ quốc và Nhân dân\"\".\n",
    "Thay mặt Đoàn Thể thao Việt Nam, ông Đoàn Việt Hà bày tỏ lời cảm ơn chân thành tới các đồng chí lãnh đạo Đảng, Nhà nước, Quốc hội, Chính phủ. \n",
    "Sự quan tâm của các đồng chí lãnh đạo cùng toàn thể nhân dân sẽ tạo niềm tin mạnh mẽ, tiếp sức cho Đoàn trên con đường thực hiện mục tiêu đề ra./.Trần Mạnh\n",
    "\"\"\"\n",
    "document = text_preprocessing(document)\n",
    "print(document)"
   ]
  },
  {
   "cell_type": "code",
   "execution_count": 26,
   "id": "0e5bd069",
   "metadata": {},
   "outputs": [
    {
     "name": "stdout",
     "output_type": "stream",
     "text": [
      "Xử lý dữ liệu trên tập train...\n"
     ]
    },
    {
     "data": {
      "application/vnd.jupyter.widget-view+json": {
       "model_id": "004976e8dbb446d0907a55ae92e92fff",
       "version_major": 2,
       "version_minor": 0
      },
      "text/plain": [
       "  0%|          | 0/22444 [00:00<?, ?it/s]"
      ]
     },
     "metadata": {},
     "output_type": "display_data"
    },
    {
     "name": "stdout",
     "output_type": "stream",
     "text": [
      "Xử lý dữ liệu trên tập test...\n"
     ]
    },
    {
     "data": {
      "application/vnd.jupyter.widget-view+json": {
       "model_id": "506c36ac0c21474c90f4f62f3a7e6c29",
       "version_major": 2,
       "version_minor": 0
      },
      "text/plain": [
       "  0%|          | 0/9620 [00:00<?, ?it/s]"
      ]
     },
     "metadata": {},
     "output_type": "display_data"
    }
   ],
   "source": [
    "# Thực hiện xử lý trên toàn bộ dữ liệu\n",
    "print('Xử lý dữ liệu trên tập train...')\n",
    "for i, news in enumerate(tqdm(train_x)):\n",
    "  train_x[i] = text_preprocessing(news)\n",
    "\n",
    "print('Xử lý dữ liệu trên tập test...')\n",
    "for i, news in enumerate(tqdm(test_x)):\n",
    "  test_x[i] = text_preprocessing(news)"
   ]
  },
  {
   "cell_type": "code",
   "execution_count": 27,
   "id": "2acc9d5a",
   "metadata": {},
   "outputs": [
    {
     "data": {
      "text/plain": [
       "'chuyến phà từ ozu sẽ đưa du_khách đến đảo aoshima thuộc tỉnh ehime trong vòng 20 phút hòn đảo dân_cư thưa_thớt đã trở_thành điểm thu_hút khách du_lịch đông_đúc nhưng không có cửa_hàng khách_sạn hay nhà_hàng nào ở đây những gì aoshima có là mèo rất rất nhiều mèo người_ta từng đếm có hơn 200 con mèo sinh_sống trên hòn đảo nhỏ_bé có chiều dài chỉ 1 6 km này rộng cả_thảy 46 ha và dân_số mèo đang tăng không ngừng hàng ngày trước đây tôi hiếm khi chở khách du_lịch phà trưởng nobuyuki ninomiya nói với báo_chí bây_giờ tôi chở khách du_lịch mỗi tuần mặc_dù sản_phẩm du_lịch duy_nhất chúng_tôi có là mèo những con mèo đã quen với con_người và do_đó được coi là bán hoang_dã chúng vui_vẻ chơi_đùa với du_khách và thậm_chí còn có khu_vực cho ăn được chỉ_định gần trung_tâm cộng_đồng nhưng làm thế_nào mà hòn đảo xa_xôi này trở_nên tràn_ngập mèo ngư_dân xưa_kia đã mang những con mèo đi lạc đến hòn đảo này để diệt_chuột và không có kẻ săn mồi nào khác đe_dọa mèo đã sinh_sản con đàn cháu đống mà không gặp bất_kỳ trở_ngại người dân địa_phương cũng có xu_hướng cho mèo ăn quá nhiều đặc_biệt là những người già trên đảo họ thừa_nhận làm thế để tình_bạn với con vật được gắn_bó hơn mặc_dù vậy không một người_yêu mèo nào có_thể đổ_lỗi cho họ về điều đó nhật bản cũng không phải là nơi duy_nhất có nhiều đảo mèo cho đến gần đây mỹ có ít_nhất 18 đảo mèo và úc có lúc tới 15 đảo điều đáng chú_ý là cả mỹ và úc đều có ý_định xóa_sổ quần_thể mèo trên những đảo đó việc loại_bỏ quần_thể mèo ở aoshima cũng đã được đề_cập vì theo các nhà_nghiên_cứu về aoshima cho biết mèo tự sắp_xếp theo thứ_bậc trong đó những con đực tranh_giành lãnh_thổ và những con_cái của chúng tranh_giành thức_ăn với quá nhiều sự cạnh_tranh các nhà_nghiên_cứu về mèo lập_luận rằng điều_kiện sống ở nơi được gọi_là thiên_đường mèo này chẳng có gì là thiên_đường với quá nhiều sự cạnh_tranh mèo con thường chết trước khi trưởng_thành vì đói bệnh_tật và thậm_chí có tình_trạng giết mèo con vốn chỉ xảy ra ở sư_tử khi mùa đông đến và không có du_khách những con mèo trở_nên đói_khát vào mùa xuân và mùa hè khách du_lịch mang theo thức_ăn để cho mèo ăn nhưng khi trời trở lạnh biển động thì không ai đến đôi_khi thuyền không_thể quay lại khi biển động kazuyki ono nói thêm đảo aoshima từng là một làng chài trù_phú hơn 900 người sinh_sống trên đảo vào giữa thế_kỷ trước ngày_nay chỉ còn lại một_số ít cư_dân lớn_tuổi không di_dời sau thế_chiến thứ hai trên thực_tế tính đến năm 2019 chỉ có 6 cư_dân định_cư chính_thức ở đảo một nhiếp_ảnh_gia có tên fubirai đã dành vài năm để ghi lại những chú mèo trên đảo vào năm 2012 những bức ảnh đã lan_truyền với sự trợ_giúp của buzzfeed và dẫn đến bùng_nổ du_lịch cho đến ngày_nay nhưng ngoài_ra thật không may aoshima không hẳn là một trung_tâm du_lịch nhộn_nhịp không có khách_sạn nhà_hàng cửa_hiệu hay thậm_chí là máy bán hàng tự_động nếu bạn đang lên kế_hoạch đến thăm aoshima hãy mang theo mọi đồ_dùng cá_nhân và mang tất_cả rác về nhà'"
      ]
     },
     "execution_count": 27,
     "metadata": {},
     "output_type": "execute_result"
    }
   ],
   "source": [
    "# Kiểm tra\n",
    "train_x[1]"
   ]
  },
  {
   "cell_type": "code",
   "execution_count": 30,
   "id": "56bc0e62",
   "metadata": {},
   "outputs": [
    {
     "data": {
      "text/plain": [
       "numpy.ndarray"
      ]
     },
     "execution_count": 30,
     "metadata": {},
     "output_type": "execute_result"
    }
   ],
   "source": [
    "type(train_x)"
   ]
  },
  {
   "cell_type": "markdown",
   "id": "290dcc85",
   "metadata": {},
   "source": [
    "#### 7. Loại bỏ stop word tiếng Việt"
   ]
  },
  {
   "cell_type": "markdown",
   "id": "3fa8d210",
   "metadata": {},
   "source": [
    "- Stopword là các từ xuất hiện nhiều ở tất cả các chuyên mục cần phân loại. Do đó, chúng là các đặc trưng không có tác dụng cho việc phân loại văn bản.\n",
    "- Các stopword thường là các từ nối (của, là, có, được, những,…) và các từ đặc trưng của dữ liệu (ví dụ như các từ “máy bay, tiếp viên” là các stopword nếu làm bài phân loại đánh giá khách hàng của doanh nghiệp vận tải hàng không)."
   ]
  },
  {
   "cell_type": "code",
   "execution_count": 31,
   "id": "bd45baed",
   "metadata": {},
   "outputs": [
    {
     "name": "stdout",
     "output_type": "stream",
     "text": [
      "Processing news ...\n",
      "Number of words in dataset:  136611\n"
     ]
    }
   ],
   "source": [
    "# Thống kê các từ và số lượng tương ứng\n",
    "count = {}\n",
    "print('Processing news ...')\n",
    "for content in (train_x):\n",
    "  words = content.split(' ')\n",
    "  for word in words:\n",
    "    if word not in count:\n",
    "      count[word] = 1\n",
    "    else:\n",
    "      count[word] += 1\n",
    "\n",
    "for content in (test_x):\n",
    "  words = content.split(' ')\n",
    "  for word in words:\n",
    "    if word not in count:\n",
    "      count[word] = 1\n",
    "    else:\n",
    "      count[word] += 1\n",
    "\n",
    "print('Number of words in dataset: ', len(count))"
   ]
  },
  {
   "cell_type": "code",
   "execution_count": 32,
   "id": "0b6c34e1",
   "metadata": {
    "scrolled": true
   },
   "outputs": [
    {
     "name": "stdout",
     "output_type": "stream",
     "text": [
      "và - 216749\n",
      "của - 212125\n",
      "là - 154487\n",
      "các - 150166\n",
      "có - 148896\n",
      "trong - 140437\n",
      "được - 128532\n",
      "cho - 121899\n",
      "với - 119073\n",
      "một - 118615\n",
      "không - 111877\n",
      "những - 108159\n",
      "đã - 105772\n",
      "người - 95239\n",
      "để - 79549\n",
      "khi - 78126\n",
      "ở - 76225\n",
      "này - 74086\n",
      "sẽ - 70989\n",
      "cũng - 67688\n",
      "đến - 63883\n",
      "tôi - 62864\n",
      "vào - 62143\n",
      "về - 59766\n",
      "nhiều - 58474\n",
      "đó - 57725\n",
      "từ - 56874\n",
      "năm - 54757\n",
      "như - 54000\n",
      "phải - 53705\n",
      "trên - 52921\n",
      "tại - 50120\n",
      "nhưng - 49506\n",
      "ra - 49206\n",
      "anh - 47012\n",
      "sau - 45529\n",
      "lại - 43416\n",
      "làm - 43408\n",
      "hơn - 43010\n",
      "còn - 42301\n",
      "theo - 39100\n",
      "chỉ - 38884\n",
      "có_thể - 37312\n",
      "bạn - 37309\n",
      "2 - 37033\n",
      "mình - 36610\n",
      "rất - 36108\n",
      "nam - 36007\n",
      "1 - 35203\n",
      "trước - 34351\n",
      "sự - 34075\n",
      "ngày - 33520\n",
      "thì - 33462\n",
      "mới - 32662\n",
      "ông - 31758\n",
      "hai - 31496\n",
      "3 - 31367\n",
      "mà - 31076\n",
      "bị - 30942\n",
      "đi - 30812\n",
      "việt - 30727\n",
      "nhất - 30601\n",
      "đang - 30478\n",
      "việc - 30009\n",
      "biết - 29058\n",
      "nhà - 28996\n",
      "họ - 26652\n",
      "đây - 26601\n",
      "lên - 26162\n",
      "vẫn - 24876\n",
      "nước - 24076\n",
      "khác - 24010\n",
      "qua - 23494\n",
      "tới - 23475\n",
      "nên - 23395\n",
      "vì - 22422\n",
      "trận - 22404\n",
      "cả - 21990\n",
      "nếu - 21264\n",
      "4 - 21172\n",
      "nói - 20874\n",
      "bằng - 20801\n",
      "đội - 20654\n",
      "cao - 20610\n",
      "lần - 20361\n",
      "hay - 20324\n",
      "bộ - 20309\n",
      "tháng - 20263\n",
      "cùng - 19701\n",
      "trường - 19460\n",
      "5 - 19348\n",
      "rằng - 19199\n",
      "chưa - 18701\n",
      "thứ - 18509\n",
      "phim - 18350\n",
      "cô - 17507\n",
      "điểm - 17380\n",
      "do - 17352\n",
      "điều - 17243\n",
      "số - 16917\n"
     ]
    }
   ],
   "source": [
    "# Liệt kê 100 từ xuất hiện nhiều nhất\n",
    "sorted_count = sorted(count, key=count.get, reverse=True)\n",
    "for word in np.array(sorted_count)[:100]:\n",
    "  print(f'{word} - {count[word]}')"
   ]
  },
  {
   "cell_type": "code",
   "execution_count": 33,
   "id": "c61bcbd1",
   "metadata": {},
   "outputs": [],
   "source": [
    "# Thêm 100 từ nhiều nhất vào danh sách stopword\n",
    "stopwords = set()\n",
    "for word in sorted_count[:100]:\n",
    "    stopwords.add(word)\n",
    "\n",
    "# Lưu danh sách stopwords\n",
    "stopwords_path = 'Data/saved/stopwords.sav'\n",
    "pickle.dump(stopwords, open(stopwords_path, 'wb'))"
   ]
  },
  {
   "cell_type": "markdown",
   "id": "f214d53a",
   "metadata": {},
   "source": [
    "#### Loại bỏ stopword khỏi tập train và test"
   ]
  },
  {
   "cell_type": "code",
   "execution_count": 4,
   "id": "d6e01e97",
   "metadata": {},
   "outputs": [],
   "source": [
    "stopwords_path = 'Data/saved/stopwords.sav'\n",
    "stopwords = pickle.load(open(stopwords_path, 'rb'))"
   ]
  },
  {
   "cell_type": "code",
   "execution_count": 9,
   "id": "3f8b0b59",
   "metadata": {},
   "outputs": [
    {
     "data": {
      "text/plain": [
       "{'1',\n",
       " '2',\n",
       " '3',\n",
       " '4',\n",
       " '5',\n",
       " 'anh',\n",
       " 'biết',\n",
       " 'bạn',\n",
       " 'bằng',\n",
       " 'bị',\n",
       " 'bộ',\n",
       " 'cao',\n",
       " 'cho',\n",
       " 'chưa',\n",
       " 'chỉ',\n",
       " 'các',\n",
       " 'còn',\n",
       " 'có',\n",
       " 'có_thể',\n",
       " 'cô',\n",
       " 'cùng',\n",
       " 'cũng',\n",
       " 'cả',\n",
       " 'của',\n",
       " 'do',\n",
       " 'hai',\n",
       " 'hay',\n",
       " 'hơn',\n",
       " 'họ',\n",
       " 'khi',\n",
       " 'khác',\n",
       " 'không',\n",
       " 'là',\n",
       " 'làm',\n",
       " 'lên',\n",
       " 'lại',\n",
       " 'lần',\n",
       " 'mà',\n",
       " 'mình',\n",
       " 'một',\n",
       " 'mới',\n",
       " 'nam',\n",
       " 'ngày',\n",
       " 'người',\n",
       " 'nhiều',\n",
       " 'nhà',\n",
       " 'như',\n",
       " 'nhưng',\n",
       " 'nhất',\n",
       " 'những',\n",
       " 'này',\n",
       " 'nên',\n",
       " 'nói',\n",
       " 'năm',\n",
       " 'nước',\n",
       " 'nếu',\n",
       " 'phim',\n",
       " 'phải',\n",
       " 'qua',\n",
       " 'ra',\n",
       " 'rất',\n",
       " 'rằng',\n",
       " 'sau',\n",
       " 'sẽ',\n",
       " 'số',\n",
       " 'sự',\n",
       " 'theo',\n",
       " 'tháng',\n",
       " 'thì',\n",
       " 'thứ',\n",
       " 'trong',\n",
       " 'trên',\n",
       " 'trước',\n",
       " 'trường',\n",
       " 'trận',\n",
       " 'tôi',\n",
       " 'tại',\n",
       " 'tới',\n",
       " 'từ',\n",
       " 'việc',\n",
       " 'việt',\n",
       " 'và',\n",
       " 'vào',\n",
       " 'vì',\n",
       " 'vẫn',\n",
       " 'về',\n",
       " 'với',\n",
       " 'ông',\n",
       " 'đang',\n",
       " 'đi',\n",
       " 'điều',\n",
       " 'điểm',\n",
       " 'đây',\n",
       " 'đã',\n",
       " 'đó',\n",
       " 'được',\n",
       " 'đến',\n",
       " 'để',\n",
       " 'đội',\n",
       " 'ở'}"
      ]
     },
     "execution_count": 9,
     "metadata": {},
     "output_type": "execute_result"
    }
   ],
   "source": [
    "stopwords"
   ]
  },
  {
   "cell_type": "code",
   "execution_count": 34,
   "id": "9436a60f",
   "metadata": {},
   "outputs": [
    {
     "data": {
      "text/plain": [
       "'nghị_định ban_hành dân cần hết 169'"
      ]
     },
     "execution_count": 34,
     "metadata": {},
     "output_type": "execute_result"
    }
   ],
   "source": [
    "# Loại bỏ stopword\n",
    "def remove_stopwords(document):\n",
    "    words = document.split(' ')\n",
    "    res = list()\n",
    "    for word in words:\n",
    "        if word not in stopwords:\n",
    "            res.append(word)\n",
    "    return ' '.join(res)\n",
    "\n",
    "# Kiểm tra\n",
    "remove_stopwords(text_preprocessing('Theo nghị định đã ban hành, người dân cần ở trong nhà đến hết ngày 16/9.'))"
   ]
  },
  {
   "cell_type": "code",
   "execution_count": 35,
   "id": "73ad63cd",
   "metadata": {},
   "outputs": [
    {
     "name": "stdout",
     "output_type": "stream",
     "text": [
      "Loại bỏ stopwords trên tập train...\n"
     ]
    },
    {
     "data": {
      "application/vnd.jupyter.widget-view+json": {
       "model_id": "455f8d59cd4f416080354e882fc1562d",
       "version_major": 2,
       "version_minor": 0
      },
      "text/plain": [
       "  0%|          | 0/22444 [00:00<?, ?it/s]"
      ]
     },
     "metadata": {},
     "output_type": "display_data"
    },
    {
     "name": "stdout",
     "output_type": "stream",
     "text": [
      "Loại bỏ stopwords trên tập test...\n"
     ]
    },
    {
     "data": {
      "application/vnd.jupyter.widget-view+json": {
       "model_id": "8f9d60acfa8c46f39a2395db6dd33d0a",
       "version_major": 2,
       "version_minor": 0
      },
      "text/plain": [
       "  0%|          | 0/9620 [00:00<?, ?it/s]"
      ]
     },
     "metadata": {},
     "output_type": "display_data"
    }
   ],
   "source": [
    "# Thực hiện trên toàn bộ dữ liệu\n",
    "print('Loại bỏ stopwords trên tập train...')\n",
    "for i, news in enumerate(tqdm(train_x)):\n",
    "  train_x[i] = remove_stopwords(news)\n",
    "\n",
    "print('Loại bỏ stopwords trên tập test...')\n",
    "for i, news in enumerate(tqdm(test_x)):\n",
    "  test_x[i] = remove_stopwords(news)"
   ]
  },
  {
   "cell_type": "code",
   "execution_count": 36,
   "id": "a9f45fbf",
   "metadata": {
    "scrolled": true
   },
   "outputs": [
    {
     "name": "stdout",
     "output_type": "stream",
     "text": [
      "Cate: Du hoc\n",
      "Content: trại_hè tiếng 2005 chương_trình diễn 196 trung_tâm huấn_luyện thể_thao quốc_gia núi tam_đảo học_sinh học tiếng tuần ăn_ở vui_chơi thăm quan dã_ngoại lửa_trại học nấu món ăn dân_tộc chủ_đề vui học ngôn_ngữ sử_dụng trại_hè tiếng em học_sinh nâng trình_độ nghe tiếng tham_gia chương_trình giáo_viên nước_ngoài giáo_viên phụ_trách cán_bộ thanh_thiếu_niên trung_ương chi_phí trọn_gói 200 usd mỗi học_sinh bao_gồm chi_phí ăn học đi_lại bảo_hiểm\n",
      "Cate: My thuat\n",
      "Content: nỗi_niềm xa xứ cuộc_sống xa quê 30 bức ảnh miêu_tả chân_dung nơi làm_việc sinh_hoạt hằng bùi thế trung phản_ánh khá chân_thực diện_mạo đời_sống con xa xứ triển_lãm nỗi_niềm xa xứ khai_mạc tối_qua viện trao_đổi văn_hóa pháp idecaf 31_thái văn_lung quận 1_ tp hcm 2001 bùi thế trung đầu_tiên nhận học_bổng học môn nhiếp_ảnh nhiếp_ảnh quốc_gia_pháp ecole nationale superieure la photographie ba tốt_nghiệp tấm thạc_sĩ nhiếp_ảnh tuổi 26 lưu_lạc pháp bao đồng_hương trung muốn phản_ánh tâm_tư tình_cảm quyết_định thực_hiện ngay bức ảnh bài thực_tập sưu_tập 30 bức ảnh mang tên nỗi_niềm xa xứ xem cảm_giác vừa nhận thư người_thân nước_ngoài gửi cách mười mấy bên cạnh tấm ảnh chụp lưu_niệm dòng tâm_sự cuộc_sống bên dòng chữ chú_thích dưới ảnh gợi nhớ quê biết_bao kỷ_niệm chọn màu đen trắng chụp trung muốn thời_gian thực_hiện bức ảnh chụp màu xem đoán thời_gian chụp đầu 90 ảnh màu bắt_đầu phổ_biến muốn 10 xem khán_giả thấy tấm hình hề thay_đổi tác_phẩm thích bức chụp bốn chị_em_gái nó thể_hiện truyền_thống tình_cảm gắn_bó bốn hà lan sống mỗi nơi quyết_tâm sum_họp kể _phần_lớn bức ảnh loạt ảnh nằm tập sách ảnh hoàn_thành 2004 pháp mang tên racines cội_rễ _sinh 1978 tp hcm bùi thế trung phụ_trách hình_ảnh trung_tâm hình_ảnh thuộc viện trao_đổi văn_hóa pháp idecaf phòng hợp_tác hoạt_động văn_hóa tổng_lãnh_sự quán pháp tp hcm tác_phẩm chân_thực bùi thế trung khơi_gợi cảm_thông gây xúc_động xem cách_thức thật nhẹ_nhàng hiệu_quả thân xem bức ảnh hình_ảnh giống nhắc_nhở quá_khứ rồi xem lật giở từng kỷ_niệm bao ký_ức người_thân tràn bất_giác chúng_ta chợt nhận cái tình_cảm thân_quen ruột_rà máu_mủ đôi_khi toát khuôn_mặt thuần nét nữa triển_lãm kéo_dài hết 249\n",
      "Cate: Cuoc song do day\n",
      "Content: washington nhanh_chóng thành_lập liên_minh quốc_tế hỗ_trợ ukraine nga bắt_đầu tiến_hành chiến_dịch quân_sự ukraine 24 2022 cung_cấp hàng chục tỷ usd viện_trợ quân_sự huấn_luyện quân_đội kyiv áp_đặt lệnh trừng_phạt trừng_phạt đối_với moscow afp hỗ_trợ quốc_tế hàng chục quốc_gia điều_phối thông_qua nhóm liên_lạc quốc_phòng ukraine nhóm_họp đầu_tiên cuối 2022 phó trợ_lý bộ_trưởng quốc_phòng mỹ phụ_trách vấn_đề nga ukraine lục_địa á u laura cooper mới_đây afp bộ_trưởng quốc_phòng mỹ lloyd austin điều_khiển chính đằng nhóm liên_lạc quốc_phòng ukraine cuộc họp tổ_chức gần hằng tăng_cường nỗ_lực phối_hợp hỗ_trợ chúng_tôi tập_trung giành chiến_thắng cuộc_chiến hôm_nay cuộc_chiến sắp bà cooper thêm cuộc họp nhóm liên_lạc quốc_phòng ukraine cho_phép quan_chức chỉ_huy quân_sự ukraine cập_nhật bộ_trưởng động_lực chiến_trường hiện_tại yêu_cầu ukraine cộng_đồng quốc_tế xác_định cung_cấp ukraine khả_năng cần_thiết bà cooper tiết_lộ tổng hỗ_trợ an_ninh mỹ quốc_gia dành kyiv ít_nhất 45 tỷ usd kể nga bắt_đầu chiến_dịch quân_sự ukraine viện_trợ ukraine bao_gồm hầu_hết loại thiết_bị quân_sự vũ_khí nhỏ đạn dược hệ_thống tên rốc_két pháo_binh hệ_thống phòng xe_bọc_thép _kyiv kêu_gọi cung_cấp một_số khí_tài ủng_hộ sẵn_sàng cung_cấp hệ_thống phòng patriot xe_tăng tiên_tiến tên lửa tầm xa máy_bay chiến_đấu một_số hứa_hẹn cung_cấp patriot xe_tăng tiên_tiến tên lửa tầm xa chiến_đấu cơ bên ủng_hộ ukraine huấn_luyện_binh_lính kyiv nỗ_lực phối_hợp riêng thông_qua tổ_chức nhóm hỗ_trợ an ninh ukraine lực_lượng mỹ bắt_đầu chương_trình tập_trung cuộc diễn_tập quy_mô lớn bên cạnh hướng_dẫn cách sử_dụng hệ_thống vũ_khí cụ_thể cố_vấn cấp mark cancian trung_tâm nghiên_cứu chiến_lược quốc_tế csis mỹ nhận_định hỗ_trợ mỹ hỗ_trợ rộng_rãi châu_u toàn_cầu ukraine sụp_đổ hỗ_trợ vô_cùng quan_trọng tiếp_tục hỗ_trợ vô_cùng quan_trọng phần_lớn con_số mỹ viện_trợ cung_cấp thông_qua rút khí_tài trực_tiếp kho dự_trữ quân_sự mỹ thông_qua đơn đặt_hàng ngành công_nghiệp quốc_phòng sử_dụng đơn đặt_hàng nhằm tránh cạn_kiệt kho dự_trữ mỹ mất thời_gian cung_cấp viện_trợ trực_tiếp lấy khí_tài kho dự_trữ mỹ _dù vậy quan_chức quốc_phòng khẳng_định hỗ_trợ quân_sự ukraine suy_yếu khả_năng sẵn_sàng mỹ cancian nhận_định tác_động đối_với kho dự_trữ mỹ vấn_đề ngày_càng gia_tăng lưu_ý đặc_biệt xảy đạn pháo đủ nguồn cung khí_tài biện_pháp thay_thế mua hàng quốc_gia giải_pháp viện_trợ tiếp_tục cách_thức thay_đổi thích_ứng tình_hình cancian nhận_định ủng_hộ đảng cộng_hòa đảng dân_chủ mỹ đối_với viện_trợ dành ukraine nói_chung mạnh_mẽ một_số lập_pháp kêu_gọi hạn_chế viện_trợ tiền ukraine nghị_sĩ đảng_cộng_hòa_matt gaetz viết twitter đầu nhóm thượng_nghị_sĩ lưỡng đảng cuối kêu_gọi mở_rộng viện_trợ kyiv cung_cấp hệ_thống vũ_khí tiên_tiến washington gửi ukraine stephen sestanovich thành_viên cao_cấp nghiên_cứu nga á u hội_đồng quan_hệ đối_ngoại mỹ mức hỗ_trợ hiện_tại dành ukraine duy_trì thời_gian dài khó_khăn tìm cách tăng mức hỗ_trợ afp\n",
      "Cate: Thoi trang\n",
      "Content: tuyết ngọc luôn cố_gắng phát_huy bản_lĩnh danh_hiệu đồng_nghĩa chuyện luôn tuy khiêm_tốn chiều_cao thích câu tuy ai ngước nhìn tuyết ngọc gương_mặt người_mẫu đắt show tâm_sự _ giọng chị có_vẻ bình_thường sao vậy giọng khàn yếu khó tiếp_xúc nơi đông 9 tuổi phẫu_thuật khối_u bẩm_sinh vùng ngực sống khỏe_mạnh giờ may_mắn lớn chị nghĩ sao giọng chị nhìn cơ_hội tốt học giọng khó_khăn trả bài thày kể_cả giao_tiếp bạn_bè hạn_chế ban_đầu khổ_tâm luôn thu_mình đám_đông chịu tiếp_xúc lạ sau_này bước chân nghề người_mẫu cảm_giác tự_ti học cách mạnh_dạn tiếp_xúc cuộc thi thời_trang mùa xuân 2004 bảo khả_năng đoạt giải giọng tốt mất cơ_hội _ giọng lợi_thế chiều chị thế_nào tạo nét diễn riêng_biệt mỗi con_người bản_thân phong_cách nét diễn riêng_biệt vậy luôn cố_gắng phát_huy cái riêng ấy tươi_vui nhí_nhảnh lúc quyến_rũ thu_hút diễn show đưa sưu_tập make up tông màu mang mọi hài_lòng đáng_kể khả_năng luôn cố_gắng khẳng_định chính nghề bước tiếp_theo xem một_cách nâng_cấp người_mẫu hiện_nay chuyển sang đóng_phim tạo scandal chị nghĩ sao chuyện mỗi con đường quyết_định hoàn_cảnh sắp_đặt cái nghề bấp_bênh đầy tai_tiếng bắt_đầu bản_thân cân_nhắc tính_toán người_mẫu đóng muốn thể_hiện khả_năng điển_hình hong kong thi hoa_hậu rốt_cuộc muốn diễn_viên chuyện scandal ai muốn rắc_rối dính scandal chẳng_qua may bản_thân luôn ý_thức sinh gia_đình trí_thức luôn cẩn_trọng tránh một_cách tốt\n",
      "Cate: Giai tri tin hoc\n",
      "Content: website mặt mọi ứng_dụng spyware stopbadware org website miễn_phí chuyên ưu_tiên mặt tất_cả ứng_dụng bí_mật gài phần_mềm gián_điệp danh_sách phần_mềm ẩn_chứa loại mã độc phá_hoại máy_tính giúp dùng quyết_định đúng_đắn tải chương_trình nào internet dùng ngoài_ra nó đưa đầy_đủ mọi khuyến_cáo bảo_mật mọi tự bảo_vệ mọi nguy_cơ mã độc danh_sách liệt_kê stopbadware bao_gồm chương_trình adware tác_dụng chuyên tung pop up quảng_cáo ít khả_năng cõng con virus hoặc trojan nào công_ty bảo_mật forrester research tối_thiểu 60 máy_tính hiện_nay nhiễm virus hoặc đủ loại mã độc mã độc lây_nhiễm dùng tò_mò tải xài ứng_dụng miễn_phí vớ_vẩn nào internet công_ty bảo_mật đều tỏ sẵn_sàng hợp_tác stopbadware org khuyến_cáo dùng tham_khảo trang stopbadware tải hoặc cài_đặt bất_kỳ ứng_dụng nào tuy_rằng quá_trình xây_dựng dùng stopbadware tham_khảo thông_tin đầu_tiên\n"
     ]
    }
   ],
   "source": [
    "# Kiểm tra\n",
    "for i in random.sample(range(0, len(train_x)), 5):\n",
    "    print('Cate:', train_y[i])\n",
    "    print('Content:', train_x[i])"
   ]
  },
  {
   "cell_type": "markdown",
   "id": "6377da59",
   "metadata": {},
   "source": [
    "#### Lưu lại dữ liệu đã hoàn tất tiền xử lý"
   ]
  },
  {
   "cell_type": "code",
   "execution_count": 37,
   "id": "0ccf1976",
   "metadata": {},
   "outputs": [],
   "source": [
    "train_x_path = 'Data/saved/train_x.sav'\n",
    "train_y_path = 'Data/saved/train_y.sav'\n",
    "test_x_path = 'Data/saved/test_x.sav'\n",
    "test_y_path = 'Data/saved/test_y.sav'\n",
    "\n",
    "pickle.dump(train_x, open(train_x_path, 'wb'))\n",
    "pickle.dump(train_y, open(train_y_path, 'wb'))\n",
    "pickle.dump(test_x, open(test_x_path, 'wb'))\n",
    "pickle.dump(test_y, open(test_y_path, 'wb'))"
   ]
  },
  {
   "cell_type": "markdown",
   "id": "18de8440",
   "metadata": {},
   "source": [
    "**Kết luận:** Như vậy là đã hoàn thành quá trình tiền xử lý dữ liệu. Tiếp theo sẽ là phần phân loại các tin tức đã được xử lý."
   ]
  },
  {
   "cell_type": "code",
   "execution_count": null,
   "id": "cb0f6944",
   "metadata": {},
   "outputs": [],
   "source": []
  }
 ],
 "metadata": {
  "kernelspec": {
   "display_name": "Python 3.10.4 ('venv': venv)",
   "language": "python",
   "name": "python3"
  },
  "language_info": {
   "codemirror_mode": {
    "name": "ipython",
    "version": 3
   },
   "file_extension": ".py",
   "mimetype": "text/x-python",
   "name": "python",
   "nbconvert_exporter": "python",
   "pygments_lexer": "ipython3",
   "version": "3.10.9"
  },
  "vscode": {
   "interpreter": {
    "hash": "9a1182db4f03b16d95cdbf16f79ee23bd77e3a152531435d78ce69572e42c2bd"
   }
  }
 },
 "nbformat": 4,
 "nbformat_minor": 5
}
