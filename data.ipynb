{
 "cells": [
  {
   "cell_type": "code",
   "execution_count": 1,
   "metadata": {},
   "outputs": [],
   "source": [
    "import numpy as np\n",
    "import pandas as pd\n",
    "import os\n",
    "from tqdm import tqdm"
   ]
  },
  {
   "cell_type": "code",
   "execution_count": 18,
   "metadata": {},
   "outputs": [],
   "source": [
    "import codecs\n",
    "import shutil\n",
    "\n",
    "with codecs.open(\"./Data/new_data.csv\", encoding=\"utf-8\") as input_file:\n",
    "    with codecs.open(\n",
    "            \"./Data/new_data_16.csv\", \"w\", encoding=\"utf-16\") as output_file:\n",
    "        shutil.copyfileobj(input_file, output_file)"
   ]
  },
  {
   "cell_type": "code",
   "execution_count": 2,
   "metadata": {},
   "outputs": [],
   "source": [
    "new_data = pd.read_csv('./Data/new_data_16.csv', encoding='utf-16')"
   ]
  },
  {
   "cell_type": "code",
   "execution_count": 7,
   "metadata": {},
   "outputs": [
    {
     "name": "stderr",
     "output_type": "stream",
     "text": [
      "100%|██████████| 27/27 [00:00<00:00, 381.30it/s]\n",
      "100%|██████████| 27/27 [00:00<00:00, 423.01it/s]\n"
     ]
    }
   ],
   "source": [
    "labels = os.listdir('./Data/train/')\n",
    "\n",
    "test_dir = 'Data/test'\n",
    "train_dir = 'Data/train'\n",
    "\n",
    "train_paths = []\n",
    "\n",
    "for label in tqdm(labels):\n",
    "    dir_path = train_dir + \"/\" + label\n",
    "    news_paths = os.listdir(dir_path)\n",
    "    for path in news_paths:\n",
    "        train_paths.append(dir_path + \"/\" + path)\n",
    "\n",
    "test_paths = []\n",
    "\n",
    "for label in tqdm(labels):\n",
    "    dir_path = test_dir + \"/\" + label\n",
    "    news_paths = os.listdir(dir_path)\n",
    "    for path in news_paths:\n",
    "        test_paths.append(dir_path + \"/\" + path)\n",
    "\n"
   ]
  },
  {
   "cell_type": "code",
   "execution_count": 8,
   "metadata": {},
   "outputs": [
    {
     "name": "stderr",
     "output_type": "stream",
     "text": [
      "100%|██████████| 14375/14375 [00:04<00:00, 3345.29it/s]\n",
      "100%|██████████| 12076/12076 [00:03<00:00, 3169.86it/s]\n"
     ]
    }
   ],
   "source": [
    "old_messages = []\n",
    "old_types = []\n",
    "\n",
    "for path in tqdm(train_paths):\n",
    "    with open(path, 'r', encoding='utf-16') as f:\n",
    "        content = f.read()\n",
    "        label = path.split(\"/\")[-2]\n",
    "        old_messages.append(content)\n",
    "        old_types.append(label)\n",
    "\n",
    "for path in tqdm(test_paths):\n",
    "    with open(path, 'r', encoding='utf-16') as f:\n",
    "        content = f.read()\n",
    "        label = path.split(\"/\")[-2]\n",
    "        old_messages.append(content)\n",
    "        old_types.append(label)"
   ]
  },
  {
   "cell_type": "code",
   "execution_count": 3,
   "metadata": {},
   "outputs": [],
   "source": [
    "old_data = pd.DataFrame(columns=['message', 'type'])"
   ]
  },
  {
   "cell_type": "code",
   "execution_count": 10,
   "metadata": {},
   "outputs": [],
   "source": [
    "old_data['message'] = old_messages\n",
    "old_data['type'] = old_types"
   ]
  },
  {
   "cell_type": "code",
   "execution_count": 11,
   "metadata": {},
   "outputs": [
    {
     "data": {
      "text/html": [
       "<div>\n",
       "<style scoped>\n",
       "    .dataframe tbody tr th:only-of-type {\n",
       "        vertical-align: middle;\n",
       "    }\n",
       "\n",
       "    .dataframe tbody tr th {\n",
       "        vertical-align: top;\n",
       "    }\n",
       "\n",
       "    .dataframe thead th {\n",
       "        text-align: right;\n",
       "    }\n",
       "</style>\n",
       "<table border=\"1\" class=\"dataframe\">\n",
       "  <thead>\n",
       "    <tr style=\"text-align: right;\">\n",
       "      <th></th>\n",
       "      <th>message</th>\n",
       "      <th>type</th>\n",
       "    </tr>\n",
       "  </thead>\n",
       "  <tbody>\n",
       "    <tr>\n",
       "      <th>0</th>\n",
       "      <td>\\nĐó là chủ đề liveshow Sắc màu âm nhạc tháng...</td>\n",
       "      <td>Am nhac</td>\n",
       "    </tr>\n",
       "    <tr>\n",
       "      <th>1</th>\n",
       "      <td>Giống như Keiko Matsui, Blackmore's Night được...</td>\n",
       "      <td>Am nhac</td>\n",
       "    </tr>\n",
       "    <tr>\n",
       "      <th>2</th>\n",
       "      <td>Vừa trở về Việt Nam sau chuyến lưu diễn 3 tuần...</td>\n",
       "      <td>Am nhac</td>\n",
       "    </tr>\n",
       "    <tr>\n",
       "      <th>3</th>\n",
       "      <td>Chương trình ca nhạc mừng sinh nhật lần thứ 20...</td>\n",
       "      <td>Am nhac</td>\n",
       "    </tr>\n",
       "    <tr>\n",
       "      <th>4</th>\n",
       "      <td>\"Ta là một khách mày râu/Đứng đi lạng chạng dư...</td>\n",
       "      <td>Am nhac</td>\n",
       "    </tr>\n",
       "    <tr>\n",
       "      <th>...</th>\n",
       "      <td>...</td>\n",
       "      <td>...</td>\n",
       "    </tr>\n",
       "    <tr>\n",
       "      <th>26446</th>\n",
       "      <td>Trương Thanh Long: 'Bạn bè bảo tôi là bon chen...</td>\n",
       "      <td>Thoi trang</td>\n",
       "    </tr>\n",
       "    <tr>\n",
       "      <th>26447</th>\n",
       "      <td>Người đẹp dễ dụ bằng tiền\\nKhông phải ngẫu nhi...</td>\n",
       "      <td>Thoi trang</td>\n",
       "    </tr>\n",
       "    <tr>\n",
       "      <th>26448</th>\n",
       "      <td>21 người đẹp vào vòng chung kết Hoa hậu toàn q...</td>\n",
       "      <td>Thoi trang</td>\n",
       "    </tr>\n",
       "    <tr>\n",
       "      <th>26449</th>\n",
       "      <td>'Hoa hậu phải rành ngoại ngữ'\\nNữ hoàng sắc đẹ...</td>\n",
       "      <td>Thoi trang</td>\n",
       "    </tr>\n",
       "    <tr>\n",
       "      <th>26450</th>\n",
       "      <td>Áo dài Ngân An sang Thuỵ Điển\\nBộ sưu tập \"Hà ...</td>\n",
       "      <td>Thoi trang</td>\n",
       "    </tr>\n",
       "  </tbody>\n",
       "</table>\n",
       "<p>26451 rows × 2 columns</p>\n",
       "</div>"
      ],
      "text/plain": [
       "                                                 message        type\n",
       "0       \\nĐó là chủ đề liveshow Sắc màu âm nhạc tháng...     Am nhac\n",
       "1      Giống như Keiko Matsui, Blackmore's Night được...     Am nhac\n",
       "2      Vừa trở về Việt Nam sau chuyến lưu diễn 3 tuần...     Am nhac\n",
       "3      Chương trình ca nhạc mừng sinh nhật lần thứ 20...     Am nhac\n",
       "4      \"Ta là một khách mày râu/Đứng đi lạng chạng dư...     Am nhac\n",
       "...                                                  ...         ...\n",
       "26446  Trương Thanh Long: 'Bạn bè bảo tôi là bon chen...  Thoi trang\n",
       "26447  Người đẹp dễ dụ bằng tiền\\nKhông phải ngẫu nhi...  Thoi trang\n",
       "26448  21 người đẹp vào vòng chung kết Hoa hậu toàn q...  Thoi trang\n",
       "26449  'Hoa hậu phải rành ngoại ngữ'\\nNữ hoàng sắc đẹ...  Thoi trang\n",
       "26450  Áo dài Ngân An sang Thuỵ Điển\\nBộ sưu tập \"Hà ...  Thoi trang\n",
       "\n",
       "[26451 rows x 2 columns]"
      ]
     },
     "execution_count": 11,
     "metadata": {},
     "output_type": "execute_result"
    }
   ],
   "source": [
    "old_data"
   ]
  },
  {
   "cell_type": "code",
   "execution_count": 24,
   "metadata": {},
   "outputs": [],
   "source": [
    "old_data.to_csv('./Data/old_data_16.csv', encoding='utf-16', index=False)"
   ]
  },
  {
   "cell_type": "code",
   "execution_count": 4,
   "metadata": {},
   "outputs": [],
   "source": [
    "old_data = pd.read_csv('./Data/old_data_16.csv', encoding='utf-16')"
   ]
  },
  {
   "cell_type": "code",
   "execution_count": 5,
   "metadata": {},
   "outputs": [
    {
     "data": {
      "text/html": [
       "<div>\n",
       "<style scoped>\n",
       "    .dataframe tbody tr th:only-of-type {\n",
       "        vertical-align: middle;\n",
       "    }\n",
       "\n",
       "    .dataframe tbody tr th {\n",
       "        vertical-align: top;\n",
       "    }\n",
       "\n",
       "    .dataframe thead th {\n",
       "        text-align: right;\n",
       "    }\n",
       "</style>\n",
       "<table border=\"1\" class=\"dataframe\">\n",
       "  <thead>\n",
       "    <tr style=\"text-align: right;\">\n",
       "      <th></th>\n",
       "      <th>message</th>\n",
       "      <th>type</th>\n",
       "    </tr>\n",
       "  </thead>\n",
       "  <tbody>\n",
       "    <tr>\n",
       "      <th>0</th>\n",
       "      <td>\\nĐó là chủ đề liveshow Sắc màu âm nhạc tháng...</td>\n",
       "      <td>Am nhac</td>\n",
       "    </tr>\n",
       "    <tr>\n",
       "      <th>1</th>\n",
       "      <td>Giống như Keiko Matsui, Blackmore's Night được...</td>\n",
       "      <td>Am nhac</td>\n",
       "    </tr>\n",
       "    <tr>\n",
       "      <th>2</th>\n",
       "      <td>Vừa trở về Việt Nam sau chuyến lưu diễn 3 tuần...</td>\n",
       "      <td>Am nhac</td>\n",
       "    </tr>\n",
       "    <tr>\n",
       "      <th>3</th>\n",
       "      <td>Chương trình ca nhạc mừng sinh nhật lần thứ 20...</td>\n",
       "      <td>Am nhac</td>\n",
       "    </tr>\n",
       "    <tr>\n",
       "      <th>4</th>\n",
       "      <td>\"Ta là một khách mày râu/Đứng đi lạng chạng dư...</td>\n",
       "      <td>Am nhac</td>\n",
       "    </tr>\n",
       "    <tr>\n",
       "      <th>...</th>\n",
       "      <td>...</td>\n",
       "      <td>...</td>\n",
       "    </tr>\n",
       "    <tr>\n",
       "      <th>26446</th>\n",
       "      <td>Trương Thanh Long: 'Bạn bè bảo tôi là bon chen...</td>\n",
       "      <td>Thoi trang</td>\n",
       "    </tr>\n",
       "    <tr>\n",
       "      <th>26447</th>\n",
       "      <td>Người đẹp dễ dụ bằng tiền\\nKhông phải ngẫu nhi...</td>\n",
       "      <td>Thoi trang</td>\n",
       "    </tr>\n",
       "    <tr>\n",
       "      <th>26448</th>\n",
       "      <td>21 người đẹp vào vòng chung kết Hoa hậu toàn q...</td>\n",
       "      <td>Thoi trang</td>\n",
       "    </tr>\n",
       "    <tr>\n",
       "      <th>26449</th>\n",
       "      <td>'Hoa hậu phải rành ngoại ngữ'\\nNữ hoàng sắc đẹ...</td>\n",
       "      <td>Thoi trang</td>\n",
       "    </tr>\n",
       "    <tr>\n",
       "      <th>26450</th>\n",
       "      <td>Áo dài Ngân An sang Thuỵ Điển\\nBộ sưu tập \"Hà ...</td>\n",
       "      <td>Thoi trang</td>\n",
       "    </tr>\n",
       "  </tbody>\n",
       "</table>\n",
       "<p>26451 rows × 2 columns</p>\n",
       "</div>"
      ],
      "text/plain": [
       "                                                 message        type\n",
       "0       \\nĐó là chủ đề liveshow Sắc màu âm nhạc tháng...     Am nhac\n",
       "1      Giống như Keiko Matsui, Blackmore's Night được...     Am nhac\n",
       "2      Vừa trở về Việt Nam sau chuyến lưu diễn 3 tuần...     Am nhac\n",
       "3      Chương trình ca nhạc mừng sinh nhật lần thứ 20...     Am nhac\n",
       "4      \"Ta là một khách mày râu/Đứng đi lạng chạng dư...     Am nhac\n",
       "...                                                  ...         ...\n",
       "26446  Trương Thanh Long: 'Bạn bè bảo tôi là bon chen...  Thoi trang\n",
       "26447  Người đẹp dễ dụ bằng tiền\\nKhông phải ngẫu nhi...  Thoi trang\n",
       "26448  21 người đẹp vào vòng chung kết Hoa hậu toàn q...  Thoi trang\n",
       "26449  'Hoa hậu phải rành ngoại ngữ'\\nNữ hoàng sắc đẹ...  Thoi trang\n",
       "26450  Áo dài Ngân An sang Thuỵ Điển\\nBộ sưu tập \"Hà ...  Thoi trang\n",
       "\n",
       "[26451 rows x 2 columns]"
      ]
     },
     "execution_count": 5,
     "metadata": {},
     "output_type": "execute_result"
    }
   ],
   "source": [
    "old_data"
   ]
  },
  {
   "cell_type": "code",
   "execution_count": 26,
   "metadata": {},
   "outputs": [
    {
     "data": {
      "text/html": [
       "<div>\n",
       "<style scoped>\n",
       "    .dataframe tbody tr th:only-of-type {\n",
       "        vertical-align: middle;\n",
       "    }\n",
       "\n",
       "    .dataframe tbody tr th {\n",
       "        vertical-align: top;\n",
       "    }\n",
       "\n",
       "    .dataframe thead th {\n",
       "        text-align: right;\n",
       "    }\n",
       "</style>\n",
       "<table border=\"1\" class=\"dataframe\">\n",
       "  <thead>\n",
       "    <tr style=\"text-align: right;\">\n",
       "      <th></th>\n",
       "      <th>message</th>\n",
       "      <th>type</th>\n",
       "    </tr>\n",
       "  </thead>\n",
       "  <tbody>\n",
       "    <tr>\n",
       "      <th>0</th>\n",
       "      <td>Tối 19/4, đồng chí Lê Minh Khái, Bí thư Trung ...</td>\n",
       "      <td>The gioi tre</td>\n",
       "    </tr>\n",
       "    <tr>\n",
       "      <th>1</th>\n",
       "      <td>Công điện gửi Bộ trưởng, Thủ trưởng cơ quan ng...</td>\n",
       "      <td>Cuoc song do day</td>\n",
       "    </tr>\n",
       "    <tr>\n",
       "      <th>2</th>\n",
       "      <td>Phó Thủ tướng đánh giá cao Tổ công tác, Bộ Xây...</td>\n",
       "      <td>Bat dong san</td>\n",
       "    </tr>\n",
       "    <tr>\n",
       "      <th>3</th>\n",
       "      <td>Hiệp hội Bất động sản TPHCM (HoREA) đánh giá c...</td>\n",
       "      <td>Chung khoan</td>\n",
       "    </tr>\n",
       "    <tr>\n",
       "      <th>4</th>\n",
       "      <td>Trong bài viết \"Parliament adopts new law to f...</td>\n",
       "      <td>Kinh doanh quoc te</td>\n",
       "    </tr>\n",
       "    <tr>\n",
       "      <th>...</th>\n",
       "      <td>...</td>\n",
       "      <td>...</td>\n",
       "    </tr>\n",
       "    <tr>\n",
       "      <th>5608</th>\n",
       "      <td>Mẹ Mưa của “Nắng”: Thu Trang “lột xác” trong v...</td>\n",
       "      <td>San khau dien anh</td>\n",
       "    </tr>\n",
       "    <tr>\n",
       "      <th>5609</th>\n",
       "      <td>Á hậu Kiều Loan (Lona) là một nhân tố thú vị c...</td>\n",
       "      <td>Thoi trang</td>\n",
       "    </tr>\n",
       "    <tr>\n",
       "      <th>5610</th>\n",
       "      <td>Mới đây, Ngọc Hà - bà xã NSND Công Lý chia sẻ ...</td>\n",
       "      <td>San khau dien anh</td>\n",
       "    </tr>\n",
       "    <tr>\n",
       "      <th>5611</th>\n",
       "      <td>Theo Yonhap News đưa tin, Moonbin được tìm thấ...</td>\n",
       "      <td>San khau dien anh</td>\n",
       "    </tr>\n",
       "    <tr>\n",
       "      <th>5612</th>\n",
       "      <td>Hoàng Thùy Anh cho biết, cô vốn theo đuổi phon...</td>\n",
       "      <td>Thoi trang</td>\n",
       "    </tr>\n",
       "  </tbody>\n",
       "</table>\n",
       "<p>5613 rows × 2 columns</p>\n",
       "</div>"
      ],
      "text/plain": [
       "                                                message                type\n",
       "0     Tối 19/4, đồng chí Lê Minh Khái, Bí thư Trung ...        The gioi tre\n",
       "1     Công điện gửi Bộ trưởng, Thủ trưởng cơ quan ng...    Cuoc song do day\n",
       "2     Phó Thủ tướng đánh giá cao Tổ công tác, Bộ Xây...        Bat dong san\n",
       "3     Hiệp hội Bất động sản TPHCM (HoREA) đánh giá c...         Chung khoan\n",
       "4     Trong bài viết \"Parliament adopts new law to f...  Kinh doanh quoc te\n",
       "...                                                 ...                 ...\n",
       "5608  Mẹ Mưa của “Nắng”: Thu Trang “lột xác” trong v...   San khau dien anh\n",
       "5609  Á hậu Kiều Loan (Lona) là một nhân tố thú vị c...          Thoi trang\n",
       "5610  Mới đây, Ngọc Hà - bà xã NSND Công Lý chia sẻ ...   San khau dien anh\n",
       "5611  Theo Yonhap News đưa tin, Moonbin được tìm thấ...   San khau dien anh\n",
       "5612  Hoàng Thùy Anh cho biết, cô vốn theo đuổi phon...          Thoi trang\n",
       "\n",
       "[5613 rows x 2 columns]"
      ]
     },
     "execution_count": 26,
     "metadata": {},
     "output_type": "execute_result"
    }
   ],
   "source": [
    "new_data"
   ]
  },
  {
   "cell_type": "code",
   "execution_count": 6,
   "metadata": {},
   "outputs": [],
   "source": [
    "full_data = pd.concat([old_data, new_data]).reset_index().drop(columns='index')"
   ]
  },
  {
   "cell_type": "code",
   "execution_count": 7,
   "metadata": {},
   "outputs": [],
   "source": [
    "full_data.to_csv('./Data/full_data_16.csv', encoding='utf-16', index=False)"
   ]
  },
  {
   "cell_type": "code",
   "execution_count": 8,
   "metadata": {},
   "outputs": [],
   "source": [
    "full_data = pd.read_csv('./Data/full_data_16.csv', encoding='utf-16')"
   ]
  },
  {
   "cell_type": "code",
   "execution_count": 9,
   "metadata": {},
   "outputs": [],
   "source": [
    "full_x = full_data['message'].to_numpy()\n",
    "full_y = full_data['type'].to_numpy()"
   ]
  },
  {
   "cell_type": "code",
   "execution_count": 10,
   "metadata": {},
   "outputs": [],
   "source": [
    "from sklearn.model_selection import train_test_split\n",
    "\n",
    "train_x, test_x, train_y, test_y = train_test_split(full_x, full_y, test_size=0.3, random_state=42, stratify=full_y)"
   ]
  },
  {
   "cell_type": "code",
   "execution_count": 14,
   "metadata": {},
   "outputs": [],
   "source": [
    "import pickle"
   ]
  },
  {
   "cell_type": "code",
   "execution_count": 15,
   "metadata": {},
   "outputs": [],
   "source": [
    "train_x_path = 'Data/train_x_raw.sav'\n",
    "train_y_path = 'Data/train_y_raw.sav'\n",
    "test_x_path = 'Data/test_x_raw.sav'\n",
    "test_y_path = 'Data/test_y_raw.sav'\n",
    "\n",
    "pickle.dump(train_x, open(train_x_path, 'wb'))\n",
    "pickle.dump(train_y, open(train_y_path, 'wb'))\n",
    "pickle.dump(test_x, open(test_x_path, 'wb'))\n",
    "pickle.dump(test_y, open(test_y_path, 'wb'))"
   ]
  }
 ],
 "metadata": {
  "kernelspec": {
   "display_name": "base",
   "language": "python",
   "name": "python3"
  },
  "language_info": {
   "codemirror_mode": {
    "name": "ipython",
    "version": 3
   },
   "file_extension": ".py",
   "mimetype": "text/x-python",
   "name": "python",
   "nbconvert_exporter": "python",
   "pygments_lexer": "ipython3",
   "version": "3.10.9"
  },
  "orig_nbformat": 4
 },
 "nbformat": 4,
 "nbformat_minor": 2
}
